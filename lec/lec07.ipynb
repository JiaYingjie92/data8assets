{
 "cells": [
  {
   "cell_type": "code",
   "execution_count": 1,
   "metadata": {
    "collapsed": true
   },
   "outputs": [],
   "source": [
    "import numpy as np\n",
    "np.set_printoptions(threshold=50, linewidth=50)"
   ]
  },
  {
   "cell_type": "code",
   "execution_count": 2,
   "metadata": {
    "collapsed": false
   },
   "outputs": [
    {
     "data": {
      "text/html": [
       "<table border=\"1\" class=\"dataframe\">\n",
       "    <thead>\n",
       "        <tr>\n",
       "            <th>SEX</th> <th>AGE</th> <th>2010</th> <th>2014</th> <th>Change</th> <th>Growth</th>\n",
       "        </tr>\n",
       "    </thead>\n",
       "    <tbody>\n",
       "        <tr>\n",
       "            <td>0   </td> <td>0   </td> <td>3,951,330  </td> <td>3,948,350  </td> <td>-2,980   </td> <td>-0.02%</td>\n",
       "        </tr>\n",
       "    </tbody>\n",
       "        <tr>\n",
       "            <td>0   </td> <td>1   </td> <td>3,957,888  </td> <td>3,962,123  </td> <td>4,235    </td> <td>0.03% </td>\n",
       "        </tr>\n",
       "    </tbody>\n",
       "        <tr>\n",
       "            <td>0   </td> <td>2   </td> <td>4,090,862  </td> <td>3,957,772  </td> <td>-133,090 </td> <td>-0.82%</td>\n",
       "        </tr>\n",
       "    </tbody>\n",
       "        <tr>\n",
       "            <td>0   </td> <td>3   </td> <td>4,111,920  </td> <td>4,005,190  </td> <td>-106,730 </td> <td>-0.66%</td>\n",
       "        </tr>\n",
       "    </tbody>\n",
       "        <tr>\n",
       "            <td>0   </td> <td>4   </td> <td>4,077,552  </td> <td>4,003,448  </td> <td>-74,104  </td> <td>-0.46%</td>\n",
       "        </tr>\n",
       "    </tbody>\n",
       "        <tr>\n",
       "            <td>0   </td> <td>5   </td> <td>4,064,653  </td> <td>4,004,858  </td> <td>-59,795  </td> <td>-0.37%</td>\n",
       "        </tr>\n",
       "    </tbody>\n",
       "        <tr>\n",
       "            <td>0   </td> <td>6   </td> <td>4,073,013  </td> <td>4,134,352  </td> <td>61,339   </td> <td>0.37% </td>\n",
       "        </tr>\n",
       "    </tbody>\n",
       "        <tr>\n",
       "            <td>0   </td> <td>7   </td> <td>4,043,047  </td> <td>4,154,000  </td> <td>110,953  </td> <td>0.68% </td>\n",
       "        </tr>\n",
       "    </tbody>\n",
       "        <tr>\n",
       "            <td>0   </td> <td>8   </td> <td>4,025,604  </td> <td>4,119,524  </td> <td>93,920   </td> <td>0.58% </td>\n",
       "        </tr>\n",
       "    </tbody>\n",
       "        <tr>\n",
       "            <td>0   </td> <td>9   </td> <td>4,125,415  </td> <td>4,106,832  </td> <td>-18,583  </td> <td>-0.11%</td>\n",
       "        </tr>\n",
       "    </tbody>\n",
       "</table>\n",
       "<p>... (296 rows omitted)</p"
      ],
      "text/plain": [
       "SEX  | AGE  | 2010        | 2014        | Change    | Growth\n",
       "0    | 0    | 3,951,330   | 3,948,350   | -2,980    | -0.02%\n",
       "0    | 1    | 3,957,888   | 3,962,123   | 4,235     | 0.03%\n",
       "0    | 2    | 4,090,862   | 3,957,772   | -133,090  | -0.82%\n",
       "0    | 3    | 4,111,920   | 4,005,190   | -106,730  | -0.66%\n",
       "0    | 4    | 4,077,552   | 4,003,448   | -74,104   | -0.46%\n",
       "0    | 5    | 4,064,653   | 4,004,858   | -59,795   | -0.37%\n",
       "0    | 6    | 4,073,013   | 4,134,352   | 61,339    | 0.37%\n",
       "0    | 7    | 4,043,047   | 4,154,000   | 110,953   | 0.68%\n",
       "0    | 8    | 4,025,604   | 4,119,524   | 93,920    | 0.58%\n",
       "0    | 9    | 4,125,415   | 4,106,832   | -18,583   | -0.11%\n",
       "... (296 rows omitted)"
      ]
     },
     "execution_count": 2,
     "metadata": {},
     "output_type": "execute_result"
    }
   ],
   "source": [
    "# From Lecture 6\n",
    "from datascience import *\n",
    "full = Table.read_table('NC-EST2014-AGESEX-RES.csv')\n",
    "partial = full.select(['SEX', 'AGE', 4, 8])\n",
    "simple = partial.relabeled(2, '2010').relabeled(3, '2014')\n",
    "census = simple.with_columns([\n",
    "        'Change', simple.column('2014')-simple.column('2010'),\n",
    "        'Growth', (simple.column('2014')/simple.column('2010')) ** (1/4) - 1\n",
    "    ])\n",
    "census.set_format('Growth', PercentFormatter)\n",
    "census.set_format([2, 3, 4], NumberFormatter)"
   ]
  },
  {
   "cell_type": "code",
   "execution_count": 3,
   "metadata": {
    "collapsed": true
   },
   "outputs": [],
   "source": [
    "males = census.where('SEX', 1)\n",
    "females = census.where('SEX', 2)"
   ]
  },
  {
   "cell_type": "code",
   "execution_count": 4,
   "metadata": {
    "collapsed": false
   },
   "outputs": [
    {
     "data": {
      "text/html": [
       "<table border=\"1\" class=\"dataframe\">\n",
       "    <thead>\n",
       "        <tr>\n",
       "            <th>SEX</th> <th>AGE</th> <th>2010</th> <th>2014</th> <th>Change</th> <th>Growth</th>\n",
       "        </tr>\n",
       "    </thead>\n",
       "    <tbody>\n",
       "        <tr>\n",
       "            <td>2   </td> <td>0   </td> <td>1,932,910  </td> <td>1,930,493  </td> <td>-2,417   </td> <td>-0.03%</td>\n",
       "        </tr>\n",
       "    </tbody>\n",
       "        <tr>\n",
       "            <td>2   </td> <td>1   </td> <td>1,937,556  </td> <td>1,938,870  </td> <td>1,314    </td> <td>0.02% </td>\n",
       "        </tr>\n",
       "    </tbody>\n",
       "        <tr>\n",
       "            <td>2   </td> <td>2   </td> <td>2,002,177  </td> <td>1,935,270  </td> <td>-66,907  </td> <td>-0.85%</td>\n",
       "        </tr>\n",
       "    </tbody>\n",
       "        <tr>\n",
       "            <td>2   </td> <td>3   </td> <td>2,010,648  </td> <td>1,956,572  </td> <td>-54,076  </td> <td>-0.68%</td>\n",
       "        </tr>\n",
       "    </tbody>\n",
       "        <tr>\n",
       "            <td>2   </td> <td>4   </td> <td>1,993,240  </td> <td>1,959,950  </td> <td>-33,290  </td> <td>-0.42%</td>\n",
       "        </tr>\n",
       "    </tbody>\n",
       "        <tr>\n",
       "            <td>2   </td> <td>5   </td> <td>1,988,080  </td> <td>1,961,391  </td> <td>-26,689  </td> <td>-0.34%</td>\n",
       "        </tr>\n",
       "    </tbody>\n",
       "        <tr>\n",
       "            <td>2   </td> <td>6   </td> <td>1,993,603  </td> <td>2,024,024  </td> <td>30,421   </td> <td>0.38% </td>\n",
       "        </tr>\n",
       "    </tbody>\n",
       "        <tr>\n",
       "            <td>2   </td> <td>7   </td> <td>1,979,908  </td> <td>2,031,760  </td> <td>51,852   </td> <td>0.65% </td>\n",
       "        </tr>\n",
       "    </tbody>\n",
       "        <tr>\n",
       "            <td>2   </td> <td>8   </td> <td>1,971,142  </td> <td>2,014,402  </td> <td>43,260   </td> <td>0.54% </td>\n",
       "        </tr>\n",
       "    </tbody>\n",
       "        <tr>\n",
       "            <td>2   </td> <td>9   </td> <td>2,018,378  </td> <td>2,009,560  </td> <td>-8,818   </td> <td>-0.11%</td>\n",
       "        </tr>\n",
       "    </tbody>\n",
       "</table>\n",
       "<p>... (92 rows omitted)</p"
      ],
      "text/plain": [
       "SEX  | AGE  | 2010        | 2014        | Change    | Growth\n",
       "2    | 0    | 1,932,910   | 1,930,493   | -2,417    | -0.03%\n",
       "2    | 1    | 1,937,556   | 1,938,870   | 1,314     | 0.02%\n",
       "2    | 2    | 2,002,177   | 1,935,270   | -66,907   | -0.85%\n",
       "2    | 3    | 2,010,648   | 1,956,572   | -54,076   | -0.68%\n",
       "2    | 4    | 1,993,240   | 1,959,950   | -33,290   | -0.42%\n",
       "2    | 5    | 1,988,080   | 1,961,391   | -26,689   | -0.34%\n",
       "2    | 6    | 1,993,603   | 2,024,024   | 30,421    | 0.38%\n",
       "2    | 7    | 1,979,908   | 2,031,760   | 51,852    | 0.65%\n",
       "2    | 8    | 1,971,142   | 2,014,402   | 43,260    | 0.54%\n",
       "2    | 9    | 2,018,378   | 2,009,560   | -8,818    | -0.11%\n",
       "... (92 rows omitted)"
      ]
     },
     "execution_count": 4,
     "metadata": {},
     "output_type": "execute_result"
    }
   ],
   "source": [
    "females"
   ]
  },
  {
   "cell_type": "markdown",
   "metadata": {},
   "source": [
    "#### Discussion question"
   ]
  },
  {
   "cell_type": "code",
   "execution_count": 5,
   "metadata": {
    "collapsed": false
   },
   "outputs": [
    {
     "data": {
      "text/plain": [
       "54"
      ]
     },
     "execution_count": 5,
     "metadata": {},
     "output_type": "execute_result"
    }
   ],
   "source": [
    "females.sort('2014', descending=True).column('AGE').item(1)"
   ]
  },
  {
   "cell_type": "code",
   "execution_count": 6,
   "metadata": {
    "collapsed": false
   },
   "outputs": [
    {
     "data": {
      "text/html": [
       "<table border=\"1\" class=\"dataframe\">\n",
       "    <thead>\n",
       "        <tr>\n",
       "            <th>SEX</th> <th>AGE</th> <th>2010</th> <th>2014</th> <th>Change</th> <th>Growth</th>\n",
       "        </tr>\n",
       "    </thead>\n",
       "    <tbody>\n",
       "        <tr>\n",
       "            <td>1   </td> <td>999 </td> <td>152,089,484</td> <td>156,936,487</td> <td>4,847,003</td> <td>0.79% </td>\n",
       "        </tr>\n",
       "    </tbody>\n",
       "        <tr>\n",
       "            <td>1   </td> <td>23  </td> <td>2,151,095  </td> <td>2,399,883  </td> <td>248,788  </td> <td>2.77% </td>\n",
       "        </tr>\n",
       "    </tbody>\n",
       "        <tr>\n",
       "            <td>1   </td> <td>24  </td> <td>2,161,380  </td> <td>2,391,398  </td> <td>230,018  </td> <td>2.56% </td>\n",
       "        </tr>\n",
       "    </tbody>\n",
       "        <tr>\n",
       "            <td>1   </td> <td>22  </td> <td>2,188,228  </td> <td>2,367,842  </td> <td>179,614  </td> <td>1.99% </td>\n",
       "        </tr>\n",
       "    </tbody>\n",
       "        <tr>\n",
       "            <td>1   </td> <td>21  </td> <td>2,241,095  </td> <td>2,310,734  </td> <td>69,639   </td> <td>0.77% </td>\n",
       "        </tr>\n",
       "    </tbody>\n",
       "        <tr>\n",
       "            <td>1   </td> <td>25  </td> <td>2,177,171  </td> <td>2,295,836  </td> <td>118,665  </td> <td>1.34% </td>\n",
       "        </tr>\n",
       "    </tbody>\n",
       "        <tr>\n",
       "            <td>1   </td> <td>20  </td> <td>2,331,846  </td> <td>2,269,570  </td> <td>-62,276  </td> <td>-0.67%</td>\n",
       "        </tr>\n",
       "    </tbody>\n",
       "        <tr>\n",
       "            <td>1   </td> <td>54  </td> <td>2,091,677  </td> <td>2,242,828  </td> <td>151,151  </td> <td>1.76% </td>\n",
       "        </tr>\n",
       "    </tbody>\n",
       "        <tr>\n",
       "            <td>1   </td> <td>26  </td> <td>2,102,375  </td> <td>2,240,026  </td> <td>137,651  </td> <td>1.60% </td>\n",
       "        </tr>\n",
       "    </tbody>\n",
       "        <tr>\n",
       "            <td>1   </td> <td>19  </td> <td>2,334,906  </td> <td>2,220,790  </td> <td>-114,116 </td> <td>-1.24%</td>\n",
       "        </tr>\n",
       "    </tbody>\n",
       "</table>\n",
       "<p>... (92 rows omitted)</p"
      ],
      "text/plain": [
       "SEX  | AGE  | 2010        | 2014        | Change    | Growth\n",
       "1    | 999  | 152,089,484 | 156,936,487 | 4,847,003 | 0.79%\n",
       "1    | 23   | 2,151,095   | 2,399,883   | 248,788   | 2.77%\n",
       "1    | 24   | 2,161,380   | 2,391,398   | 230,018   | 2.56%\n",
       "1    | 22   | 2,188,228   | 2,367,842   | 179,614   | 1.99%\n",
       "1    | 21   | 2,241,095   | 2,310,734   | 69,639    | 0.77%\n",
       "1    | 25   | 2,177,171   | 2,295,836   | 118,665   | 1.34%\n",
       "1    | 20   | 2,331,846   | 2,269,570   | -62,276   | -0.67%\n",
       "1    | 54   | 2,091,677   | 2,242,828   | 151,151   | 1.76%\n",
       "1    | 26   | 2,102,375   | 2,240,026   | 137,651   | 1.60%\n",
       "1    | 19   | 2,334,906   | 2,220,790   | -114,116  | -1.24%\n",
       "... (92 rows omitted)"
      ]
     },
     "execution_count": 6,
     "metadata": {},
     "output_type": "execute_result"
    }
   ],
   "source": [
    "males.sort('2014', descending=True)"
   ]
  },
  {
   "cell_type": "code",
   "execution_count": 7,
   "metadata": {
    "collapsed": false
   },
   "outputs": [
    {
     "data": {
      "text/html": [
       "<table border=\"1\" class=\"dataframe\">\n",
       "    <thead>\n",
       "        <tr>\n",
       "            <th>SEX</th> <th>AGE</th> <th>2010</th> <th>2014</th> <th>Change</th> <th>Growth</th>\n",
       "        </tr>\n",
       "    </thead>\n",
       "    <tbody>\n",
       "        <tr>\n",
       "            <td>1   </td> <td>64  </td> <td>1,291,843  </td> <td>1,661,474  </td> <td>369,631  </td> <td>6.49% </td>\n",
       "        </tr>\n",
       "    </tbody>\n",
       "        <tr>\n",
       "            <td>1   </td> <td>65  </td> <td>1,272,693  </td> <td>1,607,688  </td> <td>334,995  </td> <td>6.02% </td>\n",
       "        </tr>\n",
       "    </tbody>\n",
       "        <tr>\n",
       "            <td>1   </td> <td>66  </td> <td>1,239,805  </td> <td>1,589,127  </td> <td>349,322  </td> <td>6.40% </td>\n",
       "        </tr>\n",
       "    </tbody>\n",
       "        <tr>\n",
       "            <td>1   </td> <td>67  </td> <td>1,270,148  </td> <td>1,653,257  </td> <td>383,109  </td> <td>6.81% </td>\n",
       "        </tr>\n",
       "    </tbody>\n",
       "        <tr>\n",
       "            <td>1   </td> <td>999 </td> <td>152,089,484</td> <td>156,936,487</td> <td>4,847,003</td> <td>0.79% </td>\n",
       "        </tr>\n",
       "    </tbody>\n",
       "</table>"
      ],
      "text/plain": [
       "<IPython.core.display.HTML object>"
      ]
     },
     "metadata": {},
     "output_type": "display_data"
    }
   ],
   "source": [
    "males.where(males.column('Change') > 300000).sort('AGE').show()"
   ]
  },
  {
   "cell_type": "code",
   "execution_count": 8,
   "metadata": {
    "collapsed": false
   },
   "outputs": [
    {
     "data": {
      "text/html": [
       "<table border=\"1\" class=\"dataframe\">\n",
       "    <thead>\n",
       "        <tr>\n",
       "            <th>SEX</th> <th>AGE</th> <th>2010</th> <th>2014</th> <th>Change</th> <th>Growth</th>\n",
       "        </tr>\n",
       "    </thead>\n",
       "    <tbody>\n",
       "        <tr>\n",
       "            <td>1   </td> <td>56  </td> <td>1,984,480  </td> <td>2,140,722  </td> <td>156,242  </td> <td>1.91% </td>\n",
       "        </tr>\n",
       "    </tbody>\n",
       "        <tr>\n",
       "            <td>1   </td> <td>57  </td> <td>1,910,028  </td> <td>2,110,149  </td> <td>200,121  </td> <td>2.52% </td>\n",
       "        </tr>\n",
       "    </tbody>\n",
       "        <tr>\n",
       "            <td>1   </td> <td>58  </td> <td>1,838,703  </td> <td>2,027,959  </td> <td>189,256  </td> <td>2.48% </td>\n",
       "        </tr>\n",
       "    </tbody>\n",
       "        <tr>\n",
       "            <td>1   </td> <td>59  </td> <td>1,779,504  </td> <td>2,006,900  </td> <td>227,396  </td> <td>3.05% </td>\n",
       "        </tr>\n",
       "    </tbody>\n",
       "        <tr>\n",
       "            <td>1   </td> <td>60  </td> <td>1,742,232  </td> <td>1,914,009  </td> <td>171,777  </td> <td>2.38% </td>\n",
       "        </tr>\n",
       "    </tbody>\n",
       "        <tr>\n",
       "            <td>1   </td> <td>61  </td> <td>1,691,413  </td> <td>1,837,080  </td> <td>145,667  </td> <td>2.09% </td>\n",
       "        </tr>\n",
       "    </tbody>\n",
       "        <tr>\n",
       "            <td>1   </td> <td>62  </td> <td>1,679,074  </td> <td>1,763,504  </td> <td>84,430   </td> <td>1.23% </td>\n",
       "        </tr>\n",
       "    </tbody>\n",
       "        <tr>\n",
       "            <td>1   </td> <td>63  </td> <td>1,753,914  </td> <td>1,701,827  </td> <td>-52,087  </td> <td>-0.75%</td>\n",
       "        </tr>\n",
       "    </tbody>\n",
       "        <tr>\n",
       "            <td>1   </td> <td>64  </td> <td>1,291,843  </td> <td>1,661,474  </td> <td>369,631  </td> <td>6.49% </td>\n",
       "        </tr>\n",
       "    </tbody>\n",
       "        <tr>\n",
       "            <td>1   </td> <td>65  </td> <td>1,272,693  </td> <td>1,607,688  </td> <td>334,995  </td> <td>6.02% </td>\n",
       "        </tr>\n",
       "    </tbody>\n",
       "        <tr>\n",
       "            <td>1   </td> <td>66  </td> <td>1,239,805  </td> <td>1,589,127  </td> <td>349,322  </td> <td>6.40% </td>\n",
       "        </tr>\n",
       "    </tbody>\n",
       "        <tr>\n",
       "            <td>1   </td> <td>67  </td> <td>1,270,148  </td> <td>1,653,257  </td> <td>383,109  </td> <td>6.81% </td>\n",
       "        </tr>\n",
       "    </tbody>\n",
       "        <tr>\n",
       "            <td>1   </td> <td>68  </td> <td>1,105,702  </td> <td>1,211,480  </td> <td>105,778  </td> <td>2.31% </td>\n",
       "        </tr>\n",
       "    </tbody>\n",
       "        <tr>\n",
       "            <td>1   </td> <td>69  </td> <td>1,006,786  </td> <td>1,187,554  </td> <td>180,768  </td> <td>4.21% </td>\n",
       "        </tr>\n",
       "    </tbody>\n",
       "</table>"
      ],
      "text/plain": [
       "<IPython.core.display.HTML object>"
      ]
     },
     "metadata": {},
     "output_type": "display_data"
    }
   ],
   "source": [
    "males.where(np.logical_and(males.column('AGE') > 55, \n",
    "                           males.column('AGE') < 70)).show()"
   ]
  },
  {
   "cell_type": "code",
   "execution_count": 9,
   "metadata": {
    "collapsed": false
   },
   "outputs": [
    {
     "data": {
      "text/html": [
       "<table border=\"1\" class=\"dataframe\">\n",
       "    <thead>\n",
       "        <tr>\n",
       "            <th>SEX</th> <th>AGE</th> <th>2010</th> <th>2014</th> <th>Change</th> <th>Growth</th>\n",
       "        </tr>\n",
       "    </thead>\n",
       "    <tbody>\n",
       "        <tr>\n",
       "            <td>0   </td> <td>18  </td> <td>4,491,005  </td> <td>4,225,590  </td> <td>-265,415 </td> <td>-1.51%</td>\n",
       "        </tr>\n",
       "    </tbody>\n",
       "        <tr>\n",
       "            <td>0   </td> <td>19  </td> <td>4,571,385  </td> <td>4,326,394  </td> <td>-244,991 </td> <td>-1.37%</td>\n",
       "        </tr>\n",
       "    </tbody>\n",
       "        <tr>\n",
       "            <td>1   </td> <td>18  </td> <td>2,305,733  </td> <td>2,165,062  </td> <td>-140,671 </td> <td>-1.56%</td>\n",
       "        </tr>\n",
       "    </tbody>\n",
       "        <tr>\n",
       "            <td>1   </td> <td>19  </td> <td>2,334,906  </td> <td>2,220,790  </td> <td>-114,116 </td> <td>-1.24%</td>\n",
       "        </tr>\n",
       "    </tbody>\n",
       "        <tr>\n",
       "            <td>2   </td> <td>18  </td> <td>2,185,272  </td> <td>2,060,528  </td> <td>-124,744 </td> <td>-1.46%</td>\n",
       "        </tr>\n",
       "    </tbody>\n",
       "        <tr>\n",
       "            <td>2   </td> <td>19  </td> <td>2,236,479  </td> <td>2,105,604  </td> <td>-130,875 </td> <td>-1.50%</td>\n",
       "        </tr>\n",
       "    </tbody>\n",
       "</table>"
      ],
      "text/plain": [
       "SEX  | AGE  | 2010        | 2014        | Change    | Growth\n",
       "0    | 18   | 4,491,005   | 4,225,590   | -265,415  | -1.51%\n",
       "0    | 19   | 4,571,385   | 4,326,394   | -244,991  | -1.37%\n",
       "1    | 18   | 2,305,733   | 2,165,062   | -140,671  | -1.56%\n",
       "1    | 19   | 2,334,906   | 2,220,790   | -114,116  | -1.24%\n",
       "2    | 18   | 2,185,272   | 2,060,528   | -124,744  | -1.46%\n",
       "2    | 19   | 2,236,479   | 2,105,604   | -130,875  | -1.50%"
      ]
     },
     "execution_count": 9,
     "metadata": {},
     "output_type": "execute_result"
    }
   ],
   "source": [
    "census.where(np.logical_or(census.column('AGE') == 18,\n",
    "                           census.column('AGE') == 19))"
   ]
  },
  {
   "cell_type": "markdown",
   "metadata": {},
   "source": [
    "## Functions"
   ]
  },
  {
   "cell_type": "code",
   "execution_count": 10,
   "metadata": {
    "collapsed": true
   },
   "outputs": [],
   "source": [
    "def percent(x):\n",
    "    return round(100*x, 2)"
   ]
  },
  {
   "cell_type": "code",
   "execution_count": 11,
   "metadata": {
    "collapsed": false
   },
   "outputs": [
    {
     "data": {
      "text/plain": [
       "16.67"
      ]
     },
     "execution_count": 11,
     "metadata": {},
     "output_type": "execute_result"
    }
   ],
   "source": [
    "percent(1/6)"
   ]
  },
  {
   "cell_type": "code",
   "execution_count": 12,
   "metadata": {
    "collapsed": false
   },
   "outputs": [
    {
     "data": {
      "text/plain": [
       "16.67"
      ]
     },
     "execution_count": 12,
     "metadata": {},
     "output_type": "execute_result"
    }
   ],
   "source": [
    "sixth = 1/6\n",
    "percent(sixth)"
   ]
  },
  {
   "cell_type": "code",
   "execution_count": 13,
   "metadata": {
    "collapsed": false
   },
   "outputs": [
    {
     "data": {
      "text/plain": [
       "0.02"
      ]
     },
     "execution_count": 13,
     "metadata": {},
     "output_type": "execute_result"
    }
   ],
   "source": [
    "percent(1/6000)"
   ]
  },
  {
   "cell_type": "code",
   "execution_count": 14,
   "metadata": {
    "collapsed": false
   },
   "outputs": [
    {
     "data": {
      "text/plain": [
       "0.0"
      ]
     },
     "execution_count": 14,
     "metadata": {},
     "output_type": "execute_result"
    }
   ],
   "source": [
    "percent(1/60000)"
   ]
  },
  {
   "cell_type": "code",
   "execution_count": 15,
   "metadata": {
    "collapsed": true
   },
   "outputs": [],
   "source": [
    "def percent(x):\n",
    "    if x < 0.00005:\n",
    "        return 100 * x\n",
    "    return round(100 * x, 2)"
   ]
  },
  {
   "cell_type": "code",
   "execution_count": 16,
   "metadata": {
    "collapsed": false
   },
   "outputs": [
    {
     "name": "stdout",
     "output_type": "stream",
     "text": [
      "1/6 = 16.67\n",
      "1/6000 = 0.02\n",
      "1/60000 = 0.0016666666666666668\n"
     ]
    }
   ],
   "source": [
    "print('1/6 =', percent(1/6))\n",
    "print('1/6000 =', percent(1/6000))\n",
    "print('1/60000 =', percent(1/60000))"
   ]
  },
  {
   "cell_type": "code",
   "execution_count": 17,
   "metadata": {
    "collapsed": false
   },
   "outputs": [
    {
     "name": "stdout",
     "output_type": "stream",
     "text": [
      "1/60000000000 = 1.6666666666666667e-09\n"
     ]
    }
   ],
   "source": [
    "print('1/60000000000 =', percent(1/60000000000))"
   ]
  },
  {
   "cell_type": "code",
   "execution_count": 18,
   "metadata": {
    "collapsed": true
   },
   "outputs": [],
   "source": [
    "def percent(x):\n",
    "    if x < 1e-8:\n",
    "        return 0.0\n",
    "    elif x < 0.00005:\n",
    "        return 100 * x\n",
    "    else:\n",
    "        return round(100 * x, 2)"
   ]
  },
  {
   "cell_type": "code",
   "execution_count": 19,
   "metadata": {
    "collapsed": false
   },
   "outputs": [
    {
     "name": "stdout",
     "output_type": "stream",
     "text": [
      "1/6 = 16.67\n",
      "1/6000 = 0.02\n",
      "1/60000 = 0.0016666666666666668\n",
      "1/60000000000 = 0.0\n"
     ]
    }
   ],
   "source": [
    "print('1/6 =', percent(1/6))\n",
    "print('1/6000 =', percent(1/6000))\n",
    "print('1/60000 =', percent(1/60000))\n",
    "print('1/60000000000 =', percent(1/60000000000))"
   ]
  },
  {
   "cell_type": "code",
   "execution_count": 20,
   "metadata": {
    "collapsed": false
   },
   "outputs": [
    {
     "data": {
      "text/plain": [
       "0.0"
      ]
     },
     "execution_count": 20,
     "metadata": {},
     "output_type": "execute_result"
    }
   ],
   "source": [
    "percent(-1/6)"
   ]
  },
  {
   "cell_type": "code",
   "execution_count": 21,
   "metadata": {
    "collapsed": false
   },
   "outputs": [
    {
     "data": {
      "text/plain": [
       "True"
      ]
     },
     "execution_count": 21,
     "metadata": {},
     "output_type": "execute_result"
    }
   ],
   "source": [
    "-1/6 < 1e-8"
   ]
  },
  {
   "cell_type": "code",
   "execution_count": 22,
   "metadata": {
    "collapsed": true
   },
   "outputs": [],
   "source": [
    "def percent(x):\n",
    "    if abs(x) < 1e-8:\n",
    "        return 0.0\n",
    "    elif abs(x) < 0.00005:\n",
    "        return 100 * x\n",
    "    else:\n",
    "        return round(100 * x, 2)"
   ]
  },
  {
   "cell_type": "code",
   "execution_count": 23,
   "metadata": {
    "collapsed": false
   },
   "outputs": [
    {
     "name": "stdout",
     "output_type": "stream",
     "text": [
      "1/6 = 16.67\n",
      "1/6000 = 0.02\n",
      "1/60000 = 0.0016666666666666668\n",
      "1/60000000000 = 0.0\n",
      "-1/6 = -16.67\n"
     ]
    }
   ],
   "source": [
    "print('1/6 =', percent(1/6))\n",
    "print('1/6000 =', percent(1/6000))\n",
    "print('1/60000 =', percent(1/60000))\n",
    "print('1/60000000000 =', percent(1/60000000000))\n",
    "print('-1/6 =', percent(-1/6))"
   ]
  },
  {
   "cell_type": "code",
   "execution_count": 24,
   "metadata": {
    "collapsed": false
   },
   "outputs": [
    {
     "data": {
      "text/html": [
       "<table border=\"1\" class=\"dataframe\">\n",
       "    <thead>\n",
       "        <tr>\n",
       "            <th>SEX</th> <th>AGE</th> <th>2010</th> <th>2014</th> <th>Change</th> <th>Growth</th>\n",
       "        </tr>\n",
       "    </thead>\n",
       "    <tbody>\n",
       "        <tr>\n",
       "            <td>0   </td> <td>18  </td> <td>4,491,005  </td> <td>4,225,590  </td> <td>-265,415 </td> <td>-1.51%</td>\n",
       "        </tr>\n",
       "    </tbody>\n",
       "        <tr>\n",
       "            <td>0   </td> <td>19  </td> <td>4,571,385  </td> <td>4,326,394  </td> <td>-244,991 </td> <td>-1.37%</td>\n",
       "        </tr>\n",
       "    </tbody>\n",
       "        <tr>\n",
       "            <td>1   </td> <td>18  </td> <td>2,305,733  </td> <td>2,165,062  </td> <td>-140,671 </td> <td>-1.56%</td>\n",
       "        </tr>\n",
       "    </tbody>\n",
       "        <tr>\n",
       "            <td>1   </td> <td>19  </td> <td>2,334,906  </td> <td>2,220,790  </td> <td>-114,116 </td> <td>-1.24%</td>\n",
       "        </tr>\n",
       "    </tbody>\n",
       "        <tr>\n",
       "            <td>2   </td> <td>18  </td> <td>2,185,272  </td> <td>2,060,528  </td> <td>-124,744 </td> <td>-1.46%</td>\n",
       "        </tr>\n",
       "    </tbody>\n",
       "        <tr>\n",
       "            <td>2   </td> <td>19  </td> <td>2,236,479  </td> <td>2,105,604  </td> <td>-130,875 </td> <td>-1.50%</td>\n",
       "        </tr>\n",
       "    </tbody>\n",
       "</table>"
      ],
      "text/plain": [
       "SEX  | AGE  | 2010        | 2014        | Change    | Growth\n",
       "0    | 18   | 4,491,005   | 4,225,590   | -265,415  | -1.51%\n",
       "0    | 19   | 4,571,385   | 4,326,394   | -244,991  | -1.37%\n",
       "1    | 18   | 2,305,733   | 2,165,062   | -140,671  | -1.56%\n",
       "1    | 19   | 2,334,906   | 2,220,790   | -114,116  | -1.24%\n",
       "2    | 18   | 2,185,272   | 2,060,528   | -124,744  | -1.46%\n",
       "2    | 19   | 2,236,479   | 2,105,604   | -130,875  | -1.50%"
      ]
     },
     "execution_count": 24,
     "metadata": {},
     "output_type": "execute_result"
    }
   ],
   "source": [
    "census.where(np.logical_or(census.column('AGE') == 18,\n",
    "                           census.column('AGE') == 19))"
   ]
  },
  {
   "cell_type": "code",
   "execution_count": 25,
   "metadata": {
    "collapsed": true
   },
   "outputs": [],
   "source": [
    "def voting_teens(t):\n",
    "    return t.where(np.logical_or(t.column('AGE') == 18, t.column('AGE') == 19))"
   ]
  },
  {
   "cell_type": "code",
   "execution_count": 26,
   "metadata": {
    "collapsed": false
   },
   "outputs": [
    {
     "data": {
      "text/html": [
       "<table border=\"1\" class=\"dataframe\">\n",
       "    <thead>\n",
       "        <tr>\n",
       "            <th>SEX</th> <th>AGE</th> <th>2010</th> <th>2014</th> <th>Change</th> <th>Growth</th>\n",
       "        </tr>\n",
       "    </thead>\n",
       "    <tbody>\n",
       "        <tr>\n",
       "            <td>2   </td> <td>18  </td> <td>2,185,272  </td> <td>2,060,528  </td> <td>-124,744 </td> <td>-1.46%</td>\n",
       "        </tr>\n",
       "    </tbody>\n",
       "        <tr>\n",
       "            <td>2   </td> <td>19  </td> <td>2,236,479  </td> <td>2,105,604  </td> <td>-130,875 </td> <td>-1.50%</td>\n",
       "        </tr>\n",
       "    </tbody>\n",
       "</table>"
      ],
      "text/plain": [
       "SEX  | AGE  | 2010        | 2014        | Change    | Growth\n",
       "2    | 18   | 2,185,272   | 2,060,528   | -124,744  | -1.46%\n",
       "2    | 19   | 2,236,479   | 2,105,604   | -130,875  | -1.50%"
      ]
     },
     "execution_count": 26,
     "metadata": {},
     "output_type": "execute_result"
    }
   ],
   "source": [
    "voting_teens(females)"
   ]
  },
  {
   "cell_type": "code",
   "execution_count": 27,
   "metadata": {
    "collapsed": false
   },
   "outputs": [
    {
     "data": {
      "text/html": [
       "<table border=\"1\" class=\"dataframe\">\n",
       "    <thead>\n",
       "        <tr>\n",
       "            <th>SEX</th> <th>AGE</th> <th>2010</th> <th>2014</th> <th>Change</th> <th>Growth</th>\n",
       "        </tr>\n",
       "    </thead>\n",
       "    <tbody>\n",
       "        <tr>\n",
       "            <td>1   </td> <td>18  </td> <td>2,305,733  </td> <td>2,165,062  </td> <td>-140,671 </td> <td>-1.56%</td>\n",
       "        </tr>\n",
       "    </tbody>\n",
       "        <tr>\n",
       "            <td>1   </td> <td>19  </td> <td>2,334,906  </td> <td>2,220,790  </td> <td>-114,116 </td> <td>-1.24%</td>\n",
       "        </tr>\n",
       "    </tbody>\n",
       "</table>"
      ],
      "text/plain": [
       "SEX  | AGE  | 2010        | 2014        | Change    | Growth\n",
       "1    | 18   | 2,305,733   | 2,165,062   | -140,671  | -1.56%\n",
       "1    | 19   | 2,334,906   | 2,220,790   | -114,116  | -1.24%"
      ]
     },
     "execution_count": 27,
     "metadata": {},
     "output_type": "execute_result"
    }
   ],
   "source": [
    "voting_teens(males)"
   ]
  },
  {
   "cell_type": "code",
   "execution_count": 28,
   "metadata": {
    "collapsed": false
   },
   "outputs": [
    {
     "data": {
      "text/html": [
       "<table border=\"1\" class=\"dataframe\">\n",
       "    <thead>\n",
       "        <tr>\n",
       "            <th>SEX</th> <th>AGE</th> <th>2010</th> <th>2014</th> <th>Change</th> <th>Growth</th>\n",
       "        </tr>\n",
       "    </thead>\n",
       "    <tbody>\n",
       "        <tr>\n",
       "            <td>0   </td> <td>18  </td> <td>4,491,005  </td> <td>4,225,590  </td> <td>-265,415 </td> <td>-1.51%</td>\n",
       "        </tr>\n",
       "    </tbody>\n",
       "        <tr>\n",
       "            <td>0   </td> <td>19  </td> <td>4,571,385  </td> <td>4,326,394  </td> <td>-244,991 </td> <td>-1.37%</td>\n",
       "        </tr>\n",
       "    </tbody>\n",
       "        <tr>\n",
       "            <td>1   </td> <td>18  </td> <td>2,305,733  </td> <td>2,165,062  </td> <td>-140,671 </td> <td>-1.56%</td>\n",
       "        </tr>\n",
       "    </tbody>\n",
       "        <tr>\n",
       "            <td>1   </td> <td>19  </td> <td>2,334,906  </td> <td>2,220,790  </td> <td>-114,116 </td> <td>-1.24%</td>\n",
       "        </tr>\n",
       "    </tbody>\n",
       "        <tr>\n",
       "            <td>2   </td> <td>18  </td> <td>2,185,272  </td> <td>2,060,528  </td> <td>-124,744 </td> <td>-1.46%</td>\n",
       "        </tr>\n",
       "    </tbody>\n",
       "        <tr>\n",
       "            <td>2   </td> <td>19  </td> <td>2,236,479  </td> <td>2,105,604  </td> <td>-130,875 </td> <td>-1.50%</td>\n",
       "        </tr>\n",
       "    </tbody>\n",
       "</table>"
      ],
      "text/plain": [
       "SEX  | AGE  | 2010        | 2014        | Change    | Growth\n",
       "0    | 18   | 4,491,005   | 4,225,590   | -265,415  | -1.51%\n",
       "0    | 19   | 4,571,385   | 4,326,394   | -244,991  | -1.37%\n",
       "1    | 18   | 2,305,733   | 2,165,062   | -140,671  | -1.56%\n",
       "1    | 19   | 2,334,906   | 2,220,790   | -114,116  | -1.24%\n",
       "2    | 18   | 2,185,272   | 2,060,528   | -124,744  | -1.46%\n",
       "2    | 19   | 2,236,479   | 2,105,604   | -130,875  | -1.50%"
      ]
     },
     "execution_count": 28,
     "metadata": {},
     "output_type": "execute_result"
    }
   ],
   "source": [
    "voting_teens(census)"
   ]
  },
  {
   "cell_type": "code",
   "execution_count": 29,
   "metadata": {
    "collapsed": false
   },
   "outputs": [
    {
     "data": {
      "text/plain": [
       "array([-0.01511402, -0.01367608, -0.01561422,\n",
       "       -0.01244902, -0.01458707, -0.01496204])"
      ]
     },
     "execution_count": 29,
     "metadata": {},
     "output_type": "execute_result"
    }
   ],
   "source": [
    "voting_teens(census).column('Growth')"
   ]
  },
  {
   "cell_type": "code",
   "execution_count": 30,
   "metadata": {
    "collapsed": false
   },
   "outputs": [
    {
     "data": {
      "text/plain": [
       "array([-1.51, -1.37, -1.56, -1.24, -1.46, -1.5 ])"
      ]
     },
     "execution_count": 30,
     "metadata": {},
     "output_type": "execute_result"
    }
   ],
   "source": [
    "voting_teens(census).apply(percent, 'Growth')"
   ]
  },
  {
   "cell_type": "markdown",
   "metadata": {},
   "source": [
    "## Pivot"
   ]
  },
  {
   "cell_type": "code",
   "execution_count": 35,
   "metadata": {
    "collapsed": false
   },
   "outputs": [
    {
     "data": {
      "text/html": [
       "<table border=\"1\" class=\"dataframe\">\n",
       "    <thead>\n",
       "        <tr>\n",
       "            <th>AGE</th> <th>0 Population</th> <th>1 Population</th> <th>2 Population</th> <th>Fraction</th>\n",
       "        </tr>\n",
       "    </thead>\n",
       "    <tbody>\n",
       "        <tr>\n",
       "            <td>0   </td> <td>3948350     </td> <td>2017857     </td> <td>1930493     </td> <td>51.11%  </td>\n",
       "        </tr>\n",
       "    </tbody>\n",
       "        <tr>\n",
       "            <td>1   </td> <td>3962123     </td> <td>2023253     </td> <td>1938870     </td> <td>51.06%  </td>\n",
       "        </tr>\n",
       "    </tbody>\n",
       "        <tr>\n",
       "            <td>2   </td> <td>3957772     </td> <td>2022502     </td> <td>1935270     </td> <td>51.10%  </td>\n",
       "        </tr>\n",
       "    </tbody>\n",
       "        <tr>\n",
       "            <td>3   </td> <td>4005190     </td> <td>2048618     </td> <td>1956572     </td> <td>51.15%  </td>\n",
       "        </tr>\n",
       "    </tbody>\n",
       "        <tr>\n",
       "            <td>4   </td> <td>4003448     </td> <td>2043498     </td> <td>1959950     </td> <td>51.04%  </td>\n",
       "        </tr>\n",
       "    </tbody>\n",
       "        <tr>\n",
       "            <td>5   </td> <td>4004858     </td> <td>2043467     </td> <td>1961391     </td> <td>51.02%  </td>\n",
       "        </tr>\n",
       "    </tbody>\n",
       "        <tr>\n",
       "            <td>6   </td> <td>4134352     </td> <td>2110328     </td> <td>2024024     </td> <td>51.04%  </td>\n",
       "        </tr>\n",
       "    </tbody>\n",
       "        <tr>\n",
       "            <td>7   </td> <td>4154000     </td> <td>2122240     </td> <td>2031760     </td> <td>51.09%  </td>\n",
       "        </tr>\n",
       "    </tbody>\n",
       "        <tr>\n",
       "            <td>8   </td> <td>4119524     </td> <td>2105122     </td> <td>2014402     </td> <td>51.10%  </td>\n",
       "        </tr>\n",
       "    </tbody>\n",
       "        <tr>\n",
       "            <td>9   </td> <td>4106832     </td> <td>2097272     </td> <td>2009560     </td> <td>51.07%  </td>\n",
       "        </tr>\n",
       "    </tbody>\n",
       "        <tr>\n",
       "            <td>10  </td> <td>4115254     </td> <td>2099874     </td> <td>2015380     </td> <td>51.03%  </td>\n",
       "        </tr>\n",
       "    </tbody>\n",
       "        <tr>\n",
       "            <td>11  </td> <td>4085636     </td> <td>2083687     </td> <td>2001949     </td> <td>51.00%  </td>\n",
       "        </tr>\n",
       "    </tbody>\n",
       "        <tr>\n",
       "            <td>12  </td> <td>4068790     </td> <td>2075243     </td> <td>1993547     </td> <td>51.00%  </td>\n",
       "        </tr>\n",
       "    </tbody>\n",
       "        <tr>\n",
       "            <td>13  </td> <td>4169346     </td> <td>2128187     </td> <td>2041159     </td> <td>51.04%  </td>\n",
       "        </tr>\n",
       "    </tbody>\n",
       "        <tr>\n",
       "            <td>14  </td> <td>4232480     </td> <td>2164228     </td> <td>2068252     </td> <td>51.13%  </td>\n",
       "        </tr>\n",
       "    </tbody>\n",
       "        <tr>\n",
       "            <td>15  </td> <td>4163723     </td> <td>2128424     </td> <td>2035299     </td> <td>51.12%  </td>\n",
       "        </tr>\n",
       "    </tbody>\n",
       "        <tr>\n",
       "            <td>16  </td> <td>4167234     </td> <td>2130938     </td> <td>2036296     </td> <td>51.14%  </td>\n",
       "        </tr>\n",
       "    </tbody>\n",
       "        <tr>\n",
       "            <td>17  </td> <td>4184706     </td> <td>2138809     </td> <td>2045897     </td> <td>51.11%  </td>\n",
       "        </tr>\n",
       "    </tbody>\n",
       "        <tr>\n",
       "            <td>18  </td> <td>4225590     </td> <td>2165062     </td> <td>2060528     </td> <td>51.24%  </td>\n",
       "        </tr>\n",
       "    </tbody>\n",
       "        <tr>\n",
       "            <td>19  </td> <td>4326394     </td> <td>2220790     </td> <td>2105604     </td> <td>51.33%  </td>\n",
       "        </tr>\n",
       "    </tbody>\n",
       "        <tr>\n",
       "            <td>20  </td> <td>4418887     </td> <td>2269570     </td> <td>2149317     </td> <td>51.36%  </td>\n",
       "        </tr>\n",
       "    </tbody>\n",
       "        <tr>\n",
       "            <td>21  </td> <td>4489746     </td> <td>2310734     </td> <td>2179012     </td> <td>51.47%  </td>\n",
       "        </tr>\n",
       "    </tbody>\n",
       "        <tr>\n",
       "            <td>22  </td> <td>4612322     </td> <td>2367842     </td> <td>2244480     </td> <td>51.34%  </td>\n",
       "        </tr>\n",
       "    </tbody>\n",
       "        <tr>\n",
       "            <td>23  </td> <td>4698584     </td> <td>2399883     </td> <td>2298701     </td> <td>51.08%  </td>\n",
       "        </tr>\n",
       "    </tbody>\n",
       "        <tr>\n",
       "            <td>24  </td> <td>4692635     </td> <td>2391398     </td> <td>2301237     </td> <td>50.96%  </td>\n",
       "        </tr>\n",
       "    </tbody>\n",
       "        <tr>\n",
       "            <td>25  </td> <td>4509594     </td> <td>2295836     </td> <td>2213758     </td> <td>50.91%  </td>\n",
       "        </tr>\n",
       "    </tbody>\n",
       "        <tr>\n",
       "            <td>26  </td> <td>4406472     </td> <td>2240026     </td> <td>2166446     </td> <td>50.83%  </td>\n",
       "        </tr>\n",
       "    </tbody>\n",
       "        <tr>\n",
       "            <td>27  </td> <td>4332545     </td> <td>2200429     </td> <td>2132116     </td> <td>50.79%  </td>\n",
       "        </tr>\n",
       "    </tbody>\n",
       "        <tr>\n",
       "            <td>28  </td> <td>4351851     </td> <td>2207185     </td> <td>2144666     </td> <td>50.72%  </td>\n",
       "        </tr>\n",
       "    </tbody>\n",
       "        <tr>\n",
       "            <td>29  </td> <td>4387476     </td> <td>2217913     </td> <td>2169563     </td> <td>50.55%  </td>\n",
       "        </tr>\n",
       "    </tbody>\n",
       "        <tr>\n",
       "            <td>30  </td> <td>4250780     </td> <td>2140108     </td> <td>2110672     </td> <td>50.35%  </td>\n",
       "        </tr>\n",
       "    </tbody>\n",
       "        <tr>\n",
       "            <td>31  </td> <td>4318706     </td> <td>2169725     </td> <td>2148981     </td> <td>50.24%  </td>\n",
       "        </tr>\n",
       "    </tbody>\n",
       "        <tr>\n",
       "            <td>32  </td> <td>4320072     </td> <td>2165840     </td> <td>2154232     </td> <td>50.13%  </td>\n",
       "        </tr>\n",
       "    </tbody>\n",
       "        <tr>\n",
       "            <td>33  </td> <td>4276113     </td> <td>2140697     </td> <td>2135416     </td> <td>50.06%  </td>\n",
       "        </tr>\n",
       "    </tbody>\n",
       "        <tr>\n",
       "            <td>34  </td> <td>4362895     </td> <td>2192455     </td> <td>2170440     </td> <td>50.25%  </td>\n",
       "        </tr>\n",
       "    </tbody>\n",
       "        <tr>\n",
       "            <td>35  </td> <td>4094039     </td> <td>2047326     </td> <td>2046713     </td> <td>50.01%  </td>\n",
       "        </tr>\n",
       "    </tbody>\n",
       "        <tr>\n",
       "            <td>36  </td> <td>4014413     </td> <td>2004990     </td> <td>2009423     </td> <td>49.94%  </td>\n",
       "        </tr>\n",
       "    </tbody>\n",
       "        <tr>\n",
       "            <td>37  </td> <td>3974190     </td> <td>1979035     </td> <td>1995155     </td> <td>49.80%  </td>\n",
       "        </tr>\n",
       "    </tbody>\n",
       "        <tr>\n",
       "            <td>38  </td> <td>3859181     </td> <td>1922571     </td> <td>1936610     </td> <td>49.82%  </td>\n",
       "        </tr>\n",
       "    </tbody>\n",
       "        <tr>\n",
       "            <td>39  </td> <td>3979827     </td> <td>1985914     </td> <td>1993913     </td> <td>49.90%  </td>\n",
       "        </tr>\n",
       "    </tbody>\n",
       "        <tr>\n",
       "            <td>40  </td> <td>3856888     </td> <td>1916261     </td> <td>1940627     </td> <td>49.68%  </td>\n",
       "        </tr>\n",
       "    </tbody>\n",
       "        <tr>\n",
       "            <td>41  </td> <td>3917413     </td> <td>1939916     </td> <td>1977497     </td> <td>49.52%  </td>\n",
       "        </tr>\n",
       "    </tbody>\n",
       "        <tr>\n",
       "            <td>42  </td> <td>4095929     </td> <td>2031325     </td> <td>2064604     </td> <td>49.59%  </td>\n",
       "        </tr>\n",
       "    </tbody>\n",
       "        <tr>\n",
       "            <td>43  </td> <td>4332491     </td> <td>2147656     </td> <td>2184835     </td> <td>49.57%  </td>\n",
       "        </tr>\n",
       "    </tbody>\n",
       "        <tr>\n",
       "            <td>44  </td> <td>4388762     </td> <td>2184235     </td> <td>2204527     </td> <td>49.77%  </td>\n",
       "        </tr>\n",
       "    </tbody>\n",
       "        <tr>\n",
       "            <td>45  </td> <td>4161450     </td> <td>2067223     </td> <td>2094227     </td> <td>49.68%  </td>\n",
       "        </tr>\n",
       "    </tbody>\n",
       "        <tr>\n",
       "            <td>46  </td> <td>4076237     </td> <td>2022698     </td> <td>2053539     </td> <td>49.62%  </td>\n",
       "        </tr>\n",
       "    </tbody>\n",
       "        <tr>\n",
       "            <td>47  </td> <td>4082150     </td> <td>2019306     </td> <td>2062844     </td> <td>49.47%  </td>\n",
       "        </tr>\n",
       "    </tbody>\n",
       "        <tr>\n",
       "            <td>48  </td> <td>4158996     </td> <td>2058243     </td> <td>2100753     </td> <td>49.49%  </td>\n",
       "        </tr>\n",
       "    </tbody>\n",
       "        <tr>\n",
       "            <td>49  </td> <td>4409209     </td> <td>2179993     </td> <td>2229216     </td> <td>49.44%  </td>\n",
       "        </tr>\n",
       "    </tbody>\n",
       "        <tr>\n",
       "            <td>50  </td> <td>4491431     </td> <td>2211607     </td> <td>2279824     </td> <td>49.24%  </td>\n",
       "        </tr>\n",
       "    </tbody>\n",
       "        <tr>\n",
       "            <td>51  </td> <td>4488666     </td> <td>2205405     </td> <td>2283261     </td> <td>49.13%  </td>\n",
       "        </tr>\n",
       "    </tbody>\n",
       "        <tr>\n",
       "            <td>52  </td> <td>4480175     </td> <td>2198124     </td> <td>2282051     </td> <td>49.06%  </td>\n",
       "        </tr>\n",
       "    </tbody>\n",
       "        <tr>\n",
       "            <td>53  </td> <td>4535748     </td> <td>2219617     </td> <td>2316131     </td> <td>48.94%  </td>\n",
       "        </tr>\n",
       "    </tbody>\n",
       "        <tr>\n",
       "            <td>54  </td> <td>4574789     </td> <td>2242828     </td> <td>2331961     </td> <td>49.03%  </td>\n",
       "        </tr>\n",
       "    </tbody>\n",
       "        <tr>\n",
       "            <td>55  </td> <td>4421625     </td> <td>2158258     </td> <td>2263367     </td> <td>48.81%  </td>\n",
       "        </tr>\n",
       "    </tbody>\n",
       "        <tr>\n",
       "            <td>56  </td> <td>4395471     </td> <td>2140722     </td> <td>2254749     </td> <td>48.70%  </td>\n",
       "        </tr>\n",
       "    </tbody>\n",
       "        <tr>\n",
       "            <td>57  </td> <td>4347179     </td> <td>2110149     </td> <td>2237030     </td> <td>48.54%  </td>\n",
       "        </tr>\n",
       "    </tbody>\n",
       "        <tr>\n",
       "            <td>58  </td> <td>4191757     </td> <td>2027959     </td> <td>2163798     </td> <td>48.38%  </td>\n",
       "        </tr>\n",
       "    </tbody>\n",
       "        <tr>\n",
       "            <td>59  </td> <td>4155417     </td> <td>2006900     </td> <td>2148517     </td> <td>48.30%  </td>\n",
       "        </tr>\n",
       "    </tbody>\n",
       "        <tr>\n",
       "            <td>60  </td> <td>3985367     </td> <td>1914009     </td> <td>2071358     </td> <td>48.03%  </td>\n",
       "        </tr>\n",
       "    </tbody>\n",
       "        <tr>\n",
       "            <td>61  </td> <td>3834428     </td> <td>1837080     </td> <td>1997348     </td> <td>47.91%  </td>\n",
       "        </tr>\n",
       "    </tbody>\n",
       "        <tr>\n",
       "            <td>62  </td> <td>3685822     </td> <td>1763504     </td> <td>1922318     </td> <td>47.85%  </td>\n",
       "        </tr>\n",
       "    </tbody>\n",
       "        <tr>\n",
       "            <td>63  </td> <td>3572379     </td> <td>1701827     </td> <td>1870552     </td> <td>47.64%  </td>\n",
       "        </tr>\n",
       "    </tbody>\n",
       "        <tr>\n",
       "            <td>64  </td> <td>3488136     </td> <td>1661474     </td> <td>1826662     </td> <td>47.63%  </td>\n",
       "        </tr>\n",
       "    </tbody>\n",
       "        <tr>\n",
       "            <td>65  </td> <td>3384449     </td> <td>1607688     </td> <td>1776761     </td> <td>47.50%  </td>\n",
       "        </tr>\n",
       "    </tbody>\n",
       "        <tr>\n",
       "            <td>66  </td> <td>3347776     </td> <td>1589127     </td> <td>1758649     </td> <td>47.47%  </td>\n",
       "        </tr>\n",
       "    </tbody>\n",
       "        <tr>\n",
       "            <td>67  </td> <td>3485502     </td> <td>1653257     </td> <td>1832245     </td> <td>47.43%  </td>\n",
       "        </tr>\n",
       "    </tbody>\n",
       "        <tr>\n",
       "            <td>68  </td> <td>2572527     </td> <td>1211480     </td> <td>1361047     </td> <td>47.09%  </td>\n",
       "        </tr>\n",
       "    </tbody>\n",
       "        <tr>\n",
       "            <td>69  </td> <td>2535012     </td> <td>1187554     </td> <td>1347458     </td> <td>46.85%  </td>\n",
       "        </tr>\n",
       "    </tbody>\n",
       "        <tr>\n",
       "            <td>70  </td> <td>2466485     </td> <td>1149247     </td> <td>1317238     </td> <td>46.59%  </td>\n",
       "        </tr>\n",
       "    </tbody>\n",
       "        <tr>\n",
       "            <td>71  </td> <td>2519748     </td> <td>1169356     </td> <td>1350392     </td> <td>46.41%  </td>\n",
       "        </tr>\n",
       "    </tbody>\n",
       "        <tr>\n",
       "            <td>72  </td> <td>2194234     </td> <td>1010896     </td> <td>1183338     </td> <td>46.07%  </td>\n",
       "        </tr>\n",
       "    </tbody>\n",
       "        <tr>\n",
       "            <td>73  </td> <td>2002191     </td> <td>913008      </td> <td>1089183     </td> <td>45.60%  </td>\n",
       "        </tr>\n",
       "    </tbody>\n",
       "        <tr>\n",
       "            <td>74  </td> <td>1890366     </td> <td>857432      </td> <td>1032934     </td> <td>45.36%  </td>\n",
       "        </tr>\n",
       "    </tbody>\n",
       "        <tr>\n",
       "            <td>75  </td> <td>1774697     </td> <td>803434      </td> <td>971263      </td> <td>45.27%  </td>\n",
       "        </tr>\n",
       "    </tbody>\n",
       "        <tr>\n",
       "            <td>76  </td> <td>1694648     </td> <td>758378      </td> <td>936270      </td> <td>44.75%  </td>\n",
       "        </tr>\n",
       "    </tbody>\n",
       "        <tr>\n",
       "            <td>77  </td> <td>1557239     </td> <td>689822      </td> <td>867417      </td> <td>44.30%  </td>\n",
       "        </tr>\n",
       "    </tbody>\n",
       "        <tr>\n",
       "            <td>78  </td> <td>1481505     </td> <td>649209      </td> <td>832296      </td> <td>43.82%  </td>\n",
       "        </tr>\n",
       "    </tbody>\n",
       "        <tr>\n",
       "            <td>79  </td> <td>1414235     </td> <td>610723      </td> <td>803512      </td> <td>43.18%  </td>\n",
       "        </tr>\n",
       "    </tbody>\n",
       "        <tr>\n",
       "            <td>80  </td> <td>1264072     </td> <td>540032      </td> <td>724040      </td> <td>42.72%  </td>\n",
       "        </tr>\n",
       "    </tbody>\n",
       "        <tr>\n",
       "            <td>81  </td> <td>1216009     </td> <td>511090      </td> <td>704919      </td> <td>42.03%  </td>\n",
       "        </tr>\n",
       "    </tbody>\n",
       "        <tr>\n",
       "            <td>82  </td> <td>1153634     </td> <td>476976      </td> <td>676658      </td> <td>41.35%  </td>\n",
       "        </tr>\n",
       "    </tbody>\n",
       "        <tr>\n",
       "            <td>83  </td> <td>1090465     </td> <td>442449      </td> <td>648016      </td> <td>40.57%  </td>\n",
       "        </tr>\n",
       "    </tbody>\n",
       "        <tr>\n",
       "            <td>84  </td> <td>1036186     </td> <td>411265      </td> <td>624921      </td> <td>39.69%  </td>\n",
       "        </tr>\n",
       "    </tbody>\n",
       "        <tr>\n",
       "            <td>85  </td> <td>924969      </td> <td>359264      </td> <td>565705      </td> <td>38.84%  </td>\n",
       "        </tr>\n",
       "    </tbody>\n",
       "        <tr>\n",
       "            <td>86  </td> <td>855696      </td> <td>322934      </td> <td>532762      </td> <td>37.74%  </td>\n",
       "        </tr>\n",
       "    </tbody>\n",
       "        <tr>\n",
       "            <td>87  </td> <td>770685      </td> <td>283305      </td> <td>487380      </td> <td>36.76%  </td>\n",
       "        </tr>\n",
       "    </tbody>\n",
       "        <tr>\n",
       "            <td>88  </td> <td>675487      </td> <td>240316      </td> <td>435171      </td> <td>35.58%  </td>\n",
       "        </tr>\n",
       "    </tbody>\n",
       "        <tr>\n",
       "            <td>89  </td> <td>599834      </td> <td>205684      </td> <td>394150      </td> <td>34.29%  </td>\n",
       "        </tr>\n",
       "    </tbody>\n",
       "        <tr>\n",
       "            <td>90  </td> <td>512845      </td> <td>170350      </td> <td>342495      </td> <td>33.22%  </td>\n",
       "        </tr>\n",
       "    </tbody>\n",
       "        <tr>\n",
       "            <td>91  </td> <td>426946      </td> <td>138080      </td> <td>288866      </td> <td>32.34%  </td>\n",
       "        </tr>\n",
       "    </tbody>\n",
       "        <tr>\n",
       "            <td>92  </td> <td>354532      </td> <td>109873      </td> <td>244659      </td> <td>30.99%  </td>\n",
       "        </tr>\n",
       "    </tbody>\n",
       "        <tr>\n",
       "            <td>93  </td> <td>286333      </td> <td>85980       </td> <td>200353      </td> <td>30.03%  </td>\n",
       "        </tr>\n",
       "    </tbody>\n",
       "        <tr>\n",
       "            <td>94  </td> <td>218655      </td> <td>62130       </td> <td>156525      </td> <td>28.41%  </td>\n",
       "        </tr>\n",
       "    </tbody>\n",
       "        <tr>\n",
       "            <td>95  </td> <td>157124      </td> <td>42824       </td> <td>114300      </td> <td>27.25%  </td>\n",
       "        </tr>\n",
       "    </tbody>\n",
       "        <tr>\n",
       "            <td>96  </td> <td>121184      </td> <td>31235       </td> <td>89949       </td> <td>25.77%  </td>\n",
       "        </tr>\n",
       "    </tbody>\n",
       "        <tr>\n",
       "            <td>97  </td> <td>83731       </td> <td>20479       </td> <td>63252       </td> <td>24.46%  </td>\n",
       "        </tr>\n",
       "    </tbody>\n",
       "        <tr>\n",
       "            <td>98  </td> <td>60185       </td> <td>13649       </td> <td>46536       </td> <td>22.68%  </td>\n",
       "        </tr>\n",
       "    </tbody>\n",
       "        <tr>\n",
       "            <td>99  </td> <td>41828       </td> <td>9037        </td> <td>32791       </td> <td>21.61%  </td>\n",
       "        </tr>\n",
       "    </tbody>\n",
       "        <tr>\n",
       "            <td>100 </td> <td>72197       </td> <td>13729       </td> <td>58468       </td> <td>19.02%  </td>\n",
       "        </tr>\n",
       "    </tbody>\n",
       "        <tr>\n",
       "            <td>999 </td> <td>318857056   </td> <td>156936487   </td> <td>161920569   </td> <td>49.22%  </td>\n",
       "        </tr>\n",
       "    </tbody>\n",
       "</table>"
      ],
      "text/plain": [
       "<IPython.core.display.HTML object>"
      ]
     },
     "metadata": {},
     "output_type": "display_data"
    }
   ],
   "source": [
    "pivoted = census.relabeled('2014', 'Population').pivot('SEX', 'AGE', 'Population', sum)\n",
    "fraction = pivoted.with_column('Fraction', pivoted.column(2)/pivoted.column(1))\n",
    "fraction.set_format('Fraction', PercentFormatter).show()"
   ]
  },
  {
   "cell_type": "markdown",
   "metadata": {},
   "source": [
    "## Group"
   ]
  },
  {
   "cell_type": "code",
   "execution_count": 32,
   "metadata": {
    "collapsed": false,
    "scrolled": true
   },
   "outputs": [
    {
     "data": {
      "text/html": [
       "<table border=\"1\" class=\"dataframe\">\n",
       "    <thead>\n",
       "        <tr>\n",
       "            <th>Timestamp</th> <th>On what day did you attend?</th> <th>How many laps did you complete?</th> <th>In how many minutes?</th> <th>How tired were you at the end?</th> <th>What's your identifier?</th>\n",
       "        </tr>\n",
       "    </thead>\n",
       "    <tbody>\n",
       "        <tr>\n",
       "            <td>1/20/2016 22:05:05</td> <td>Thursday, 1/21             </td> <td>5                              </td> <td>14                  </td> <td>4                             </td> <td>blue running shoes with black black pants.</td>\n",
       "        </tr>\n",
       "    </tbody>\n",
       "        <tr>\n",
       "            <td>1/21/2016 8:07:05 </td> <td>Thursday, 1/21             </td> <td>22                             </td> <td>30                  </td> <td>3                             </td> <td>Cal lights>WIRAs                          </td>\n",
       "        </tr>\n",
       "    </tbody>\n",
       "        <tr>\n",
       "            <td>1/21/2016 8:23:16 </td> <td>Thursday, 1/21             </td> <td>6                              </td> <td>18                  </td> <td>6                             </td> <td>Ontario                                   </td>\n",
       "        </tr>\n",
       "    </tbody>\n",
       "        <tr>\n",
       "            <td>1/21/2016 8:36:59 </td> <td>Thursday, 1/21             </td> <td>8                              </td> <td>20                  </td> <td>5                             </td> <td>Smooth Criminal                           </td>\n",
       "        </tr>\n",
       "    </tbody>\n",
       "        <tr>\n",
       "            <td>1/21/2016 8:37:28 </td> <td>Thursday, 1/21             </td> <td>8                              </td> <td>20                  </td> <td>5                             </td> <td>Tomato                                    </td>\n",
       "        </tr>\n",
       "    </tbody>\n",
       "        <tr>\n",
       "            <td>1/21/2016 9:02:25 </td> <td>Thursday, 1/21             </td> <td>5.5                            </td> <td>25                  </td> <td>5                             </td> <td>SS                                        </td>\n",
       "        </tr>\n",
       "    </tbody>\n",
       "        <tr>\n",
       "            <td>1/21/2016 9:07:08 </td> <td>Thursday, 1/21             </td> <td>12                             </td> <td>35                  </td> <td>4                             </td> <td>astennet                                  </td>\n",
       "        </tr>\n",
       "    </tbody>\n",
       "        <tr>\n",
       "            <td>1/21/2016 9:21:12 </td> <td>Thursday, 1/21             </td> <td>8                              </td> <td>35                  </td> <td>3                             </td> <td>BR                                        </td>\n",
       "        </tr>\n",
       "    </tbody>\n",
       "        <tr>\n",
       "            <td>1/21/2016 9:29:18 </td> <td>Thursday, 1/21             </td> <td>6                              </td> <td>30                  </td> <td>5                             </td> <td>TrueLoveInAGraph                          </td>\n",
       "        </tr>\n",
       "    </tbody>\n",
       "        <tr>\n",
       "            <td>1/21/2016 9:38:18 </td> <td>Thursday, 1/21             </td> <td>5                              </td> <td>11                  </td> <td>3                             </td> <td>Edward Snowden                            </td>\n",
       "        </tr>\n",
       "    </tbody>\n",
       "</table>\n",
       "<p>... (16 rows omitted)</p"
      ],
      "text/plain": [
       "Timestamp          | On what day did you attend? | How many laps did you complete? | In how many minutes? | How tired were you at the end? | What's your identifier?\n",
       "1/20/2016 22:05:05 | Thursday, 1/21              | 5                               | 14                   | 4                              | blue running shoes with black black pants.\n",
       "1/21/2016 8:07:05  | Thursday, 1/21              | 22                              | 30                   | 3                              | Cal lights>WIRAs\n",
       "1/21/2016 8:23:16  | Thursday, 1/21              | 6                               | 18                   | 6                              | Ontario\n",
       "1/21/2016 8:36:59  | Thursday, 1/21              | 8                               | 20                   | 5                              | Smooth Criminal\n",
       "1/21/2016 8:37:28  | Thursday, 1/21              | 8                               | 20                   | 5                              | Tomato\n",
       "1/21/2016 9:02:25  | Thursday, 1/21              | 5.5                             | 25                   | 5                              | SS\n",
       "1/21/2016 9:07:08  | Thursday, 1/21              | 12                              | 35                   | 4                              | astennet\n",
       "1/21/2016 9:21:12  | Thursday, 1/21              | 8                               | 35                   | 3                              | BR\n",
       "1/21/2016 9:29:18  | Thursday, 1/21              | 6                               | 30                   | 5                              | TrueLoveInAGraph\n",
       "1/21/2016 9:38:18  | Thursday, 1/21              | 5                               | 11                   | 3                              | Edward Snowden\n",
       "... (16 rows omitted)"
      ]
     },
     "execution_count": 32,
     "metadata": {},
     "output_type": "execute_result"
    }
   ],
   "source": [
    "cardio = Table.read_table(\"~/Downloads/Data 8 Cardio Participation Log (Responses) - Form Responses 1.csv\")\n",
    "cardio"
   ]
  },
  {
   "cell_type": "code",
   "execution_count": 33,
   "metadata": {
    "collapsed": false
   },
   "outputs": [
    {
     "data": {
      "text/html": [
       "<table border=\"1\" class=\"dataframe\">\n",
       "    <thead>\n",
       "        <tr>\n",
       "            <th>On what day did you attend?</th> <th>How many laps did you complete? sum</th> <th>In how many minutes? sum</th>\n",
       "        </tr>\n",
       "    </thead>\n",
       "    <tbody>\n",
       "        <tr>\n",
       "            <td>Thursday, 1/21             </td> <td>131                                </td> <td>394                     </td>\n",
       "        </tr>\n",
       "    </tbody>\n",
       "        <tr>\n",
       "            <td>Thursday, 1/28             </td> <td>99                                 </td> <td>265.5                   </td>\n",
       "        </tr>\n",
       "    </tbody>\n",
       "</table>"
      ],
      "text/plain": [
       "On what day did you attend? | How many laps did you complete? sum | In how many minutes? sum\n",
       "Thursday, 1/21              | 131                                 | 394\n",
       "Thursday, 1/28              | 99                                  | 265.5"
      ]
     },
     "execution_count": 33,
     "metadata": {},
     "output_type": "execute_result"
    }
   ],
   "source": [
    "days = cardio.select([1, 2, 3]).group(0, sum)\n",
    "days"
   ]
  },
  {
   "cell_type": "code",
   "execution_count": 34,
   "metadata": {
    "collapsed": false
   },
   "outputs": [
    {
     "data": {
      "text/html": [
       "<table border=\"1\" class=\"dataframe\">\n",
       "    <thead>\n",
       "        <tr>\n",
       "            <th>On what day did you attend?</th> <th>How many laps did you complete? sum</th> <th>In how many minutes? sum</th> <th>Minutes/Lap</th>\n",
       "        </tr>\n",
       "    </thead>\n",
       "    <tbody>\n",
       "        <tr>\n",
       "            <td>Thursday, 1/21             </td> <td>131                                </td> <td>394                     </td> <td>3.00763    </td>\n",
       "        </tr>\n",
       "    </tbody>\n",
       "        <tr>\n",
       "            <td>Thursday, 1/28             </td> <td>99                                 </td> <td>265.5                   </td> <td>2.68182    </td>\n",
       "        </tr>\n",
       "    </tbody>\n",
       "</table>"
      ],
      "text/plain": [
       "On what day did you attend? | How many laps did you complete? sum | In how many minutes? sum | Minutes/Lap\n",
       "Thursday, 1/21              | 131                                 | 394                      | 3.00763\n",
       "Thursday, 1/28              | 99                                  | 265.5                    | 2.68182"
      ]
     },
     "execution_count": 34,
     "metadata": {},
     "output_type": "execute_result"
    }
   ],
   "source": [
    "days.with_column('Minutes/Lap', days.column(2)/days.column(1))"
   ]
  }
 ],
 "metadata": {
  "kernelspec": {
   "display_name": "Python 3",
   "language": "python",
   "name": "python3"
  },
  "language_info": {
   "codemirror_mode": {
    "name": "ipython",
    "version": 3
   },
   "file_extension": ".py",
   "mimetype": "text/x-python",
   "name": "python",
   "nbconvert_exporter": "python",
   "pygments_lexer": "ipython3",
   "version": "3.4.4"
  }
 },
 "nbformat": 4,
 "nbformat_minor": 0
}
