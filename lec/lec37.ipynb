{
 "cells": [
  {
   "cell_type": "code",
   "execution_count": null,
   "metadata": {
    "collapsed": true
   },
   "outputs": [],
   "source": [
    "import numpy as np\n",
    "from datascience import *\n",
    "\n",
    "# Configure notebook (happens automatically on data8.berkeley.edu)\n",
    "%matplotlib inline\n",
    "import matplotlib.pyplot as plt\n",
    "plt.style.use('fivethirtyeight')\n",
    "\n",
    "# Configure for presentation\n",
    "np.set_printoptions(threshold=50, linewidth=50)\n",
    "import matplotlib as mpl\n",
    "mpl.rc('font', size=16)"
   ]
  },
  {
   "cell_type": "markdown",
   "metadata": {},
   "source": [
    "## Where"
   ]
  },
  {
   "cell_type": "code",
   "execution_count": null,
   "metadata": {
    "collapsed": false
   },
   "outputs": [],
   "source": [
    "t = Table.read_table('top_movies.csv')\n",
    "t"
   ]
  },
  {
   "cell_type": "code",
   "execution_count": null,
   "metadata": {
    "collapsed": false
   },
   "outputs": [],
   "source": [
    "t.where('Year', 2015)"
   ]
  },
  {
   "cell_type": "code",
   "execution_count": null,
   "metadata": {
    "collapsed": false
   },
   "outputs": [],
   "source": [
    "t.where('Year', are.above(2013))"
   ]
  },
  {
   "cell_type": "code",
   "execution_count": null,
   "metadata": {
    "collapsed": false
   },
   "outputs": [],
   "source": [
    "t.where('Year', are.between(1980, 1990))"
   ]
  },
  {
   "cell_type": "markdown",
   "metadata": {},
   "source": [
    "## Multinomial Distribution"
   ]
  },
  {
   "cell_type": "code",
   "execution_count": null,
   "metadata": {
    "collapsed": false
   },
   "outputs": [],
   "source": [
    "two_dice = Table(['First', 'Second', 'Chance'])\n",
    "for first in np.arange(1, 7):\n",
    "    for second in np.arange(1, 7):\n",
    "        two_dice.append([first, second, 1/36])\n",
    "two_dice.set_format('Chance', PercentFormatter(1))"
   ]
  },
  {
   "cell_type": "code",
   "execution_count": null,
   "metadata": {
    "collapsed": false
   },
   "outputs": [],
   "source": [
    "two_dice_sums = Table(['Sum', 'Chance']).with_rows([\n",
    "        [ 2, 1/36], [ 3, 2/36], [ 4, 3/36], [5, 4/36], [6, 5/36], [7, 6/36],\n",
    "        [12, 1/36], [11, 2/36], [10, 3/36], [9, 4/36], [8, 5/36],\n",
    "    ]).sort(0)\n",
    "two_dice_sums.set_format('Chance', PercentFormatter(1))"
   ]
  },
  {
   "cell_type": "code",
   "execution_count": null,
   "metadata": {
    "collapsed": false
   },
   "outputs": [],
   "source": [
    "dice_sums = two_dice.column('First') + two_dice.column('Second')\n",
    "sum_of_5 = two_dice.where(dice_sums == 5)\n",
    "sum_of_5"
   ]
  },
  {
   "cell_type": "code",
   "execution_count": null,
   "metadata": {
    "collapsed": false
   },
   "outputs": [],
   "source": [
    "sum(sum_of_5.column('Chance'))"
   ]
  },
  {
   "cell_type": "code",
   "execution_count": null,
   "metadata": {
    "collapsed": false
   },
   "outputs": [],
   "source": [
    "def P(event):\n",
    "    return sum(event.column('Chance'))\n",
    "\n",
    "P(sum_of_5)"
   ]
  },
  {
   "cell_type": "code",
   "execution_count": null,
   "metadata": {
    "collapsed": false
   },
   "outputs": [],
   "source": [
    "with_sums = two_dice.with_column('Sum', dice_sums)\n",
    "with_sums"
   ]
  },
  {
   "cell_type": "code",
   "execution_count": null,
   "metadata": {
    "collapsed": false
   },
   "outputs": [],
   "source": [
    "with_sums.group('Sum')"
   ]
  },
  {
   "cell_type": "code",
   "execution_count": null,
   "metadata": {
    "collapsed": false
   },
   "outputs": [],
   "source": [
    "grouped = with_sums.select(['Sum', 'Chance']).group('Sum', sum)\n",
    "grouped.relabeled(1, 'Chance').set_format('Chance', PercentFormatter(1))"
   ]
  },
  {
   "cell_type": "code",
   "execution_count": null,
   "metadata": {
    "collapsed": false
   },
   "outputs": [],
   "source": [
    "P(with_sums.where('Sum', 8))"
   ]
  },
  {
   "cell_type": "code",
   "execution_count": null,
   "metadata": {
    "collapsed": false
   },
   "outputs": [],
   "source": [
    "P(two_dice_sums.where('Sum', 8))"
   ]
  },
  {
   "cell_type": "markdown",
   "metadata": {},
   "source": [
    "### U.S. Birth Times"
   ]
  },
  {
   "cell_type": "code",
   "execution_count": null,
   "metadata": {
    "collapsed": false
   },
   "outputs": [],
   "source": [
    "birth = Table.read_table('birth_time.csv').select(['Time', 'Hour', 'Chance'])\n",
    "birth.set_format('Chance', PercentFormatter(1)).show()"
   ]
  },
  {
   "cell_type": "code",
   "execution_count": null,
   "metadata": {
    "collapsed": false
   },
   "outputs": [],
   "source": [
    "business_hours = birth.where('Hour', are.between(8, 18))\n",
    "business_hours"
   ]
  },
  {
   "cell_type": "code",
   "execution_count": null,
   "metadata": {
    "collapsed": false
   },
   "outputs": [],
   "source": [
    "P(business_hours)"
   ]
  },
  {
   "cell_type": "code",
   "execution_count": null,
   "metadata": {
    "collapsed": false
   },
   "outputs": [],
   "source": [
    "P(birth.where('Hour', are.between(0, 6)))"
   ]
  },
  {
   "cell_type": "markdown",
   "metadata": {},
   "source": [
    "## Conditional Distributions\n",
    "\n"
   ]
  },
  {
   "cell_type": "code",
   "execution_count": null,
   "metadata": {
    "collapsed": false
   },
   "outputs": [],
   "source": [
    "above_8 = two_dice_sums.where('Sum', are.above(8))\n",
    "given_8 = above_8.with_column('Chance', above_8.column('Chance') / P(above_8))\n",
    "given_8"
   ]
  },
  {
   "cell_type": "code",
   "execution_count": null,
   "metadata": {
    "collapsed": false
   },
   "outputs": [],
   "source": [
    "def given(event):\n",
    "    return event.with_column('Chance', event.column('Chance') / P(event))\n",
    "\n",
    "given(two_dice_sums.where('Sum', are.above(8)))"
   ]
  },
  {
   "cell_type": "code",
   "execution_count": null,
   "metadata": {
    "collapsed": false
   },
   "outputs": [],
   "source": [
    "given(business_hours)"
   ]
  },
  {
   "cell_type": "code",
   "execution_count": null,
   "metadata": {
    "collapsed": false
   },
   "outputs": [],
   "source": [
    "P(given(business_hours).where('Hour', are.below(12)))"
   ]
  },
  {
   "cell_type": "code",
   "execution_count": null,
   "metadata": {
    "collapsed": false
   },
   "outputs": [],
   "source": [
    "morning = birth.where('Hour', are.between(8, 12))\n",
    "P(morning)"
   ]
  },
  {
   "cell_type": "code",
   "execution_count": null,
   "metadata": {
    "collapsed": false
   },
   "outputs": [],
   "source": [
    "P(birth.where('Hour', are.below(12)))"
   ]
  },
  {
   "cell_type": "code",
   "execution_count": null,
   "metadata": {
    "collapsed": false
   },
   "outputs": [],
   "source": [
    "P(morning) / P(business_hours)"
   ]
  },
  {
   "cell_type": "code",
   "execution_count": null,
   "metadata": {
    "collapsed": false
   },
   "outputs": [],
   "source": [
    "business_hours.where('Hour', are.below(12))"
   ]
  },
  {
   "cell_type": "code",
   "execution_count": null,
   "metadata": {
    "collapsed": false
   },
   "outputs": [],
   "source": [
    "P(business_hours.where('Hour', are.below(12))) / P(business_hours)"
   ]
  },
  {
   "cell_type": "markdown",
   "metadata": {},
   "source": [
    "## Discussion Question"
   ]
  },
  {
   "cell_type": "code",
   "execution_count": null,
   "metadata": {
    "collapsed": false
   },
   "outputs": [],
   "source": [
    "after_noon = birth.where('Hour', are.above(11) )\n",
    "P ( given ( after_noon ).where( 'Hour' , are.below(18) ) )"
   ]
  },
  {
   "cell_type": "markdown",
   "metadata": {},
   "source": [
    "## Joint Distributions"
   ]
  },
  {
   "cell_type": "code",
   "execution_count": null,
   "metadata": {
    "collapsed": false
   },
   "outputs": [],
   "source": [
    "two_dice"
   ]
  },
  {
   "cell_type": "code",
   "execution_count": null,
   "metadata": {
    "collapsed": false
   },
   "outputs": [],
   "source": [
    "birth_day = Table.read_table('birth_time.csv').drop('Chance')\n",
    "birth_day.set_format([2, 3], PercentFormatter(1))"
   ]
  },
  {
   "cell_type": "code",
   "execution_count": null,
   "metadata": {
    "collapsed": true
   },
   "outputs": [],
   "source": [
    "weekday = birth_day.select(['Hour', 'Weekday']).relabeled(1, 'Chance')\n",
    "weekend = birth_day.select(['Hour', 'Weekend']).relabeled(1, 'Chance')"
   ]
  },
  {
   "cell_type": "code",
   "execution_count": null,
   "metadata": {
    "collapsed": false
   },
   "outputs": [],
   "source": [
    "birth_joint = Table(['Day', 'Hour', 'Chance'])\n",
    "for row in weekday.rows:\n",
    "    birth_joint.append(['Weekday', row.item('Hour'), row.item('Chance') * 0.7825])\n",
    "for row in weekend.rows:\n",
    "    birth_joint.append(['Weekend', row.item('Hour'), row.item('Chance') * 0.2175])\n",
    "birth_joint.set_format('Chance', PercentFormatter(1))"
   ]
  },
  {
   "cell_type": "code",
   "execution_count": null,
   "metadata": {
    "collapsed": false
   },
   "outputs": [],
   "source": [
    "P(birth_joint)"
   ]
  },
  {
   "cell_type": "code",
   "execution_count": null,
   "metadata": {
    "collapsed": false
   },
   "outputs": [],
   "source": [
    "P(birth_joint.where('Day', 'Weekday').where('Hour', are.between(8, 12)))"
   ]
  },
  {
   "cell_type": "code",
   "execution_count": null,
   "metadata": {
    "collapsed": false
   },
   "outputs": [],
   "source": [
    "early_morning = birth_joint.where('Hour', 5)\n",
    "early_morning"
   ]
  },
  {
   "cell_type": "code",
   "execution_count": null,
   "metadata": {
    "collapsed": false
   },
   "outputs": [],
   "source": [
    "P(given(early_morning).where('Day', 'Weekend'))"
   ]
  },
  {
   "cell_type": "markdown",
   "metadata": {},
   "source": [
    "### Bayes' Rule: Diagnostic Example\n",
    "\n",
    "In a population, there is a rare disease. Researchers have developed a medical test for the disease. Mostly, the test correctly identifies whether or not the tested person has the disease. But sometimes, the test is wrong. Here are the relevant proportions.\n",
    "\n",
    "- 1% of the population has the disease\n",
    "- If a person has the disease, the test returns the correct result with chance 99%.\n",
    "- If a person does not have the disease, the test returns the correct result with chance 99.5%.\n",
    "\n",
    "**One person is picked at random from the population.** Given that the person tests positive, what is the chance that the person has the disease?\n",
    "\n",
    "We begin by partitioning the population into four categories in the tree diagram below.\n",
    "\n",
    "<img src=\"disease1.png\" />"
   ]
  },
  {
   "cell_type": "markdown",
   "metadata": {},
   "source": [
    "By Bayes' Rule, the chance that the person has the disease given that he or she has tested positive is the chance of the top \"Test Positive\" branch relative to the total chance of the two \"Test Positive\" branches. The answer is\n",
    "$$\n",
    "\\frac{0.01 \\times 0.99}{0.01 \\times 0.99 ~+~ 0.99 \\times 0.005} ~=~ 0.667\n",
    "$$"
   ]
  },
  {
   "cell_type": "code",
   "execution_count": null,
   "metadata": {
    "collapsed": false
   },
   "outputs": [],
   "source": [
    "# The person is picked at random from the population.\n",
    "\n",
    "# By Bayes' Rule:\n",
    "# Chance that the person has the disease, given that test was +\n",
    "\n",
    "(0.01*0.99)/(0.01*0.99 + 0.99*0.005)"
   ]
  },
  {
   "cell_type": "code",
   "execution_count": null,
   "metadata": {
    "collapsed": false
   },
   "outputs": [],
   "source": [
    "rare = Table(['Health', 'Test', 'Chance']).with_rows([\n",
    "        ['Diseased', 'Positive', 0.01 * 0.99],\n",
    "        ['Diseased', 'Negative', 0.01 * 0.01],\n",
    "        ['Not Diseased', 'Positive', 0.99 * 0.005],\n",
    "        ['Not Diseased', 'Negative', 0.99 * 0.995]\n",
    "    ])\n",
    "rare"
   ]
  },
  {
   "cell_type": "code",
   "execution_count": null,
   "metadata": {
    "collapsed": false
   },
   "outputs": [],
   "source": [
    "positive = rare.where('Test', 'Positive')\n",
    "P(given(positive).where('Health', 'Diseased'))"
   ]
  },
  {
   "cell_type": "markdown",
   "metadata": {},
   "source": [
    "If that probability were 10%, then the probabilities on the left side of the tree diagram would change accordingly, with the 0.1 and 0.9 now interpreted as subjective probabilities:\n",
    "\n",
    "<img src=\"disease10.png\" />\n",
    "\n",
    "The change has a noticeable effect on the answer, as you can see by running the cell below."
   ]
  },
  {
   "cell_type": "code",
   "execution_count": null,
   "metadata": {
    "collapsed": false
   },
   "outputs": [],
   "source": [
    "# Subjective prior probability of 10% that the person has the disease\n",
    "\n",
    "# By Bayes' Rule:\n",
    "# Chance that the person has the disease, given that test was +\n",
    "\n",
    "(0.1*0.99)/(0.1*0.99 + 0.9*0.005)"
   ]
  },
  {
   "cell_type": "markdown",
   "metadata": {},
   "source": [
    "If the patient's prior probability of havng the disease is 50%, then the result changes yet again. \n",
    "\n",
    "<img src=\"disease50.png\" />"
   ]
  },
  {
   "cell_type": "code",
   "execution_count": null,
   "metadata": {
    "collapsed": false
   },
   "outputs": [],
   "source": [
    "# Subjective prior probability of 50% that the person has the disease\n",
    "\n",
    "# By Bayes' Rule: \n",
    "# Chance that the person has the disease, given that test was +\n",
    "\n",
    "(0.5*0.99)/(0.5*0.99 + 0.5*0.005)"
   ]
  }
 ],
 "metadata": {
  "kernelspec": {
   "display_name": "Python 3",
   "language": "python",
   "name": "python3"
  },
  "language_info": {
   "codemirror_mode": {
    "name": "ipython",
    "version": 3
   },
   "file_extension": ".py",
   "mimetype": "text/x-python",
   "name": "python",
   "nbconvert_exporter": "python",
   "pygments_lexer": "ipython3",
   "version": "3.4.4"
  }
 },
 "nbformat": 4,
 "nbformat_minor": 0
}
