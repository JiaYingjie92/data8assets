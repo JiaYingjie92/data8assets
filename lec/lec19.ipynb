{
 "cells": [
  {
   "cell_type": "code",
   "execution_count": null,
   "metadata": {
    "collapsed": true
   },
   "outputs": [],
   "source": [
    "import numpy as np\n",
    "from datascience import *\n",
    "\n",
    "# Configure notebook (happens automatically on data8.berkeley.edu)\n",
    "%matplotlib inline\n",
    "import matplotlib.pyplot as plt\n",
    "plt.style.use('fivethirtyeight')\n",
    "\n",
    "# Configure for presentation\n",
    "np.set_printoptions(threshold=50, linewidth=50)\n",
    "import matplotlib as mpl\n",
    "mpl.rc('font', size=16)"
   ]
  },
  {
   "cell_type": "code",
   "execution_count": 50,
   "metadata": {
    "collapsed": true
   },
   "outputs": [],
   "source": [
    "def standard_units(any_numbers):\n",
    "    \"Convert any array of numbers to standard units.\"\n",
    "    return (any_numbers - np.mean(any_numbers))/np.std(any_numbers)  \n",
    "\n",
    "def correlation(t, x, y):\n",
    "    \"Compute r.\"\n",
    "    return np.mean(standard_units(t.column(x))*standard_units(t.column(y)))\n",
    "\n",
    "def slope(table, x, y):\n",
    "    \"The slope of the regression line (original units)\"\n",
    "    r = correlation(table, x, y)\n",
    "    return r * np.std(table.column(y))/np.std(table.column(x))\n",
    "\n",
    "def intercept(table, x, y):\n",
    "    \"The intercept of the regression line (original units)\"\n",
    "    a = slope(table, x, y)\n",
    "    return np.mean(table.column(y)) - a * np.mean(table.column(x))\n",
    "\n",
    "def fit(table, x, y):\n",
    "    \"\"\"Return the height of the regression line at each x value.\"\"\"\n",
    "    a = slope(table, x, y)\n",
    "    b = intercept(table, x, y)\n",
    "    return a * table.column(x) + b"
   ]
  },
  {
   "cell_type": "markdown",
   "metadata": {},
   "source": [
    "## Regression Model"
   ]
  },
  {
   "cell_type": "code",
   "execution_count": null,
   "metadata": {
    "collapsed": false
   },
   "outputs": [],
   "source": [
    "np.random.normal()"
   ]
  },
  {
   "cell_type": "code",
   "execution_count": null,
   "metadata": {
    "collapsed": false
   },
   "outputs": [],
   "source": [
    "samples = Table('x')\n",
    "for i in np.arange(10000):\n",
    "    samples.append([np.random.normal()])\n",
    "samples.hist(0, bins=np.arange(-4, 4, 0.1))"
   ]
  },
  {
   "cell_type": "code",
   "execution_count": null,
   "metadata": {
    "collapsed": true
   },
   "outputs": [],
   "source": [
    "def signal_and_noise(x, r):\n",
    "    return r * x + np.random.normal() * (1-r**2)**0.5"
   ]
  },
  {
   "cell_type": "code",
   "execution_count": null,
   "metadata": {
    "collapsed": false
   },
   "outputs": [],
   "source": [
    "def regression_model(r, sample_size):\n",
    "    pairs = Table(['x', 'y'])\n",
    "    for i in np.arange(sample_size):\n",
    "        x = np.random.normal()\n",
    "        y = signal_and_noise(x, r)\n",
    "        pairs.append([x, y])\n",
    "    return pairs\n",
    "\n",
    "regression_model(1/2, 1000).scatter('x', 'y')"
   ]
  },
  {
   "cell_type": "code",
   "execution_count": null,
   "metadata": {
    "collapsed": false
   },
   "outputs": [],
   "source": [
    "def compare(true_r, sample_size):\n",
    "    pairs = regression_model(true_r, sample_size)\n",
    "    estimated_r = correlation(pairs, 'x', 'y')\n",
    "    pairs.scatter('x', 'y', fit_line=True, s=10)\n",
    "    plt.plot([-3, 3], [-3 * true_r, 3 * true_r], color='g', lw=4)\n",
    "    print(\"The true r is \", true_r, \" and the estimated r is \", estimated_r)\n",
    "\n",
    "compare(0.5, 1000)"
   ]
  },
  {
   "cell_type": "code",
   "execution_count": null,
   "metadata": {
    "collapsed": false
   },
   "outputs": [],
   "source": [
    "compare(0.5, 10)"
   ]
  },
  {
   "cell_type": "code",
   "execution_count": null,
   "metadata": {
    "collapsed": false
   },
   "outputs": [],
   "source": [
    "compare(0.9, 10)"
   ]
  },
  {
   "cell_type": "markdown",
   "metadata": {},
   "source": [
    "## Prediction"
   ]
  },
  {
   "cell_type": "code",
   "execution_count": null,
   "metadata": {
    "collapsed": false
   },
   "outputs": [],
   "source": [
    "baby = Table.read_table('baby.csv')\n",
    "baby"
   ]
  },
  {
   "cell_type": "code",
   "execution_count": null,
   "metadata": {
    "collapsed": false
   },
   "outputs": [],
   "source": [
    "baby.hist(1, bins=np.arange(200, 350, 10))"
   ]
  },
  {
   "cell_type": "code",
   "execution_count": null,
   "metadata": {
    "collapsed": false
   },
   "outputs": [],
   "source": [
    "baby.hist(0)"
   ]
  },
  {
   "cell_type": "code",
   "execution_count": null,
   "metadata": {
    "collapsed": false
   },
   "outputs": [],
   "source": [
    "baby.scatter(0, 1, fit_line=True, s=5)"
   ]
  },
  {
   "cell_type": "code",
   "execution_count": null,
   "metadata": {
    "collapsed": false
   },
   "outputs": [],
   "source": [
    "days = baby.column(1)\n",
    "typical = baby.where(np.logical_and(days > 250, days < 310))\n",
    "typical.scatter(1, 0, fit_line=True)"
   ]
  },
  {
   "cell_type": "code",
   "execution_count": null,
   "metadata": {
    "collapsed": false
   },
   "outputs": [],
   "source": [
    "correlation(typical, 0, 1)"
   ]
  },
  {
   "cell_type": "code",
   "execution_count": null,
   "metadata": {
    "collapsed": false
   },
   "outputs": [],
   "source": [
    "slope(typical, 1, 0)"
   ]
  },
  {
   "cell_type": "code",
   "execution_count": null,
   "metadata": {
    "collapsed": false
   },
   "outputs": [],
   "source": [
    "a = slope(typical, 1, 0)\n",
    "b = intercept(typical, 1, 0)\n",
    "a * 290 + b"
   ]
  },
  {
   "cell_type": "code",
   "execution_count": null,
   "metadata": {
    "collapsed": false
   },
   "outputs": [],
   "source": [
    "def predict(t, x, y, new_x_value):\n",
    "    a = slope(t, x, y)\n",
    "    b = intercept(t, x, y)\n",
    "    return a * new_x_value + b\n",
    "predict(typical, 1, 0, 290)"
   ]
  },
  {
   "cell_type": "markdown",
   "metadata": {},
   "source": [
    "## Variability in predictions"
   ]
  },
  {
   "cell_type": "code",
   "execution_count": null,
   "metadata": {
    "collapsed": false
   },
   "outputs": [],
   "source": [
    "typical.num_rows"
   ]
  },
  {
   "cell_type": "code",
   "execution_count": null,
   "metadata": {
    "collapsed": false
   },
   "outputs": [],
   "source": [
    "sample_size = 100\n",
    "predict(typical.sample(sample_size), 1, 0, 290)"
   ]
  },
  {
   "cell_type": "code",
   "execution_count": null,
   "metadata": {
    "collapsed": false
   },
   "outputs": [],
   "source": [
    "def sample_predict(new_x_value):\n",
    "    predictions = Table(['Predictions'])\n",
    "    for i in np.arange(1000):\n",
    "        predicted = predict(typical.sample(sample_size), 1, 0, new_x_value)\n",
    "        predictions.append([predicted])\n",
    "    predictions.hist(0, bins=np.arange(100, 160))\n",
    "sample_predict(290)"
   ]
  },
  {
   "cell_type": "code",
   "execution_count": null,
   "metadata": {
    "collapsed": false
   },
   "outputs": [],
   "source": [
    "sample_predict(300)"
   ]
  },
  {
   "cell_type": "code",
   "execution_count": null,
   "metadata": {
    "collapsed": false
   },
   "outputs": [],
   "source": [
    "sample_predict(315)"
   ]
  },
  {
   "cell_type": "markdown",
   "metadata": {},
   "source": [
    "## Errors"
   ]
  },
  {
   "cell_type": "code",
   "execution_count": null,
   "metadata": {
    "collapsed": false
   },
   "outputs": [],
   "source": [
    "little_women = Table.read_table('little_women.csv')\n",
    "little_women.show(3)"
   ]
  },
  {
   "cell_type": "code",
   "execution_count": null,
   "metadata": {
    "collapsed": false
   },
   "outputs": [],
   "source": [
    "little_women.scatter('Periods', 'Characters')"
   ]
  },
  {
   "cell_type": "code",
   "execution_count": null,
   "metadata": {
    "collapsed": false
   },
   "outputs": [],
   "source": [
    "correlation(little_women, 'Periods', 'Characters')"
   ]
  },
  {
   "cell_type": "code",
   "execution_count": null,
   "metadata": {
    "collapsed": true
   },
   "outputs": [],
   "source": [
    "sample = [[131, 14431], [231, 20558], [392, 40935], [157, 23524]]\n",
    "def lw_errors(a, b):\n",
    "    little_women.scatter('Periods', 'Characters')\n",
    "    xlims = np.array([50, 450])\n",
    "    plt.plot(xlims, a * xlims + b, lw=2)\n",
    "    for x, y in sample:\n",
    "        plt.plot([x, x], [y, a * x + b], color='r', lw=2)"
   ]
  },
  {
   "cell_type": "code",
   "execution_count": null,
   "metadata": {
    "collapsed": false
   },
   "outputs": [],
   "source": [
    "a = slope(little_women, 'Periods', 'Characters')\n",
    "b = intercept(little_women, 'Periods', 'Characters')\n",
    "lw_errors(a, b)"
   ]
  },
  {
   "cell_type": "code",
   "execution_count": null,
   "metadata": {
    "collapsed": false
   },
   "outputs": [],
   "source": [
    "lw_errors(-100, 50000)"
   ]
  },
  {
   "cell_type": "code",
   "execution_count": null,
   "metadata": {
    "collapsed": false
   },
   "outputs": [],
   "source": [
    "lw_errors(0, np.mean(little_women.column('Characters')))"
   ]
  },
  {
   "cell_type": "code",
   "execution_count": null,
   "metadata": {
    "collapsed": true
   },
   "outputs": [],
   "source": [
    "def lw_rmse(a, b):\n",
    "    lw_errors(a, b)\n",
    "    x = little_women.column('Periods')\n",
    "    y = little_women.column('Characters')\n",
    "    estimate = a * x + b\n",
    "    return np.average((y - estimate) ** 2) ** 0.5"
   ]
  },
  {
   "cell_type": "code",
   "execution_count": null,
   "metadata": {
    "collapsed": false
   },
   "outputs": [],
   "source": [
    "lw_rmse(0, np.mean(little_women.column('Characters')))"
   ]
  },
  {
   "cell_type": "code",
   "execution_count": null,
   "metadata": {
    "collapsed": false
   },
   "outputs": [],
   "source": [
    "lw_rmse(a, b)"
   ]
  }
 ],
 "metadata": {
  "kernelspec": {
   "display_name": "Python 3",
   "language": "python",
   "name": "python3"
  },
  "language_info": {
   "codemirror_mode": {
    "name": "ipython",
    "version": 3
   },
   "file_extension": ".py",
   "mimetype": "text/x-python",
   "name": "python",
   "nbconvert_exporter": "python",
   "pygments_lexer": "ipython3",
   "version": "3.4.4"
  }
 },
 "nbformat": 4,
 "nbformat_minor": 0
}
