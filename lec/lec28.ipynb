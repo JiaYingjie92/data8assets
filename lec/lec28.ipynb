{
 "cells": [
  {
   "cell_type": "code",
   "execution_count": 35,
   "metadata": {
    "collapsed": false
   },
   "outputs": [],
   "source": [
    "import numpy as np\n",
    "from datascience import *\n",
    "\n",
    "# Configure notebook (happens automatically on data8.berkeley.edu)\n",
    "%matplotlib inline\n",
    "import matplotlib.pyplot as plt\n",
    "plt.style.use('fivethirtyeight')\n",
    "\n",
    "# Configure for presentation\n",
    "np.set_printoptions(threshold=50, linewidth=50)\n",
    "import matplotlib as mpl\n",
    "mpl.rc('font', size=16)"
   ]
  },
  {
   "cell_type": "code",
   "execution_count": 36,
   "metadata": {
    "collapsed": true
   },
   "outputs": [],
   "source": [
    "def total_variation_distance(column, other):\n",
    "    return sum(np.abs(column - other)) / 2"
   ]
  },
  {
   "cell_type": "code",
   "execution_count": 37,
   "metadata": {
    "collapsed": false
   },
   "outputs": [
    {
     "data": {
      "text/html": [
       "<table border=\"1\" class=\"dataframe\">\n",
       "    <thead>\n",
       "        <tr>\n",
       "            <th>Race</th> <th>Eligible</th> <th>Panel</th>\n",
       "        </tr>\n",
       "    </thead>\n",
       "    <tbody>\n",
       "        <tr>\n",
       "            <td>Asian </td> <td>15%     </td> <td>26%  </td>\n",
       "        </tr>\n",
       "    </tbody>\n",
       "        <tr>\n",
       "            <td>Black </td> <td>18%     </td> <td>8%   </td>\n",
       "        </tr>\n",
       "    </tbody>\n",
       "        <tr>\n",
       "            <td>Latino</td> <td>12%     </td> <td>8%   </td>\n",
       "        </tr>\n",
       "    </tbody>\n",
       "        <tr>\n",
       "            <td>White </td> <td>54%     </td> <td>54%  </td>\n",
       "        </tr>\n",
       "    </tbody>\n",
       "        <tr>\n",
       "            <td>Other </td> <td>1%      </td> <td>4%   </td>\n",
       "        </tr>\n",
       "    </tbody>\n",
       "</table>"
      ],
      "text/plain": [
       "Race   | Eligible | Panel\n",
       "Asian  | 15%      | 26%\n",
       "Black  | 18%      | 8%\n",
       "Latino | 12%      | 8%\n",
       "White  | 54%      | 54%\n",
       "Other  | 1%       | 4%"
      ]
     },
     "execution_count": 37,
     "metadata": {},
     "output_type": "execute_result"
    }
   ],
   "source": [
    "jury = Table([\"Race\", \"Eligible\", \"Panel\"]).with_rows([\n",
    "    [\"Asian\",  0.15, 0.26],\n",
    "    [\"Black\",  0.18, 0.08],\n",
    "    [\"Latino\", 0.12, 0.08],\n",
    "    [\"White\",  0.54, 0.54],\n",
    "    [\"Other\",  0.01, 0.04],\n",
    "    ])\n",
    "jury.set_format([1, 2], PercentFormatter(0))"
   ]
  },
  {
   "cell_type": "code",
   "execution_count": 38,
   "metadata": {
    "collapsed": false
   },
   "outputs": [
    {
     "data": {
      "text/plain": [
       "0.14000000000000001"
      ]
     },
     "execution_count": 38,
     "metadata": {},
     "output_type": "execute_result"
    }
   ],
   "source": [
    "total_variation_distance(jury.column(1), jury.column(2))"
   ]
  },
  {
   "cell_type": "code",
   "execution_count": 39,
   "metadata": {
    "collapsed": false
   },
   "outputs": [
    {
     "data": {
      "text/html": [
       "<table border=\"1\" class=\"dataframe\">\n",
       "    <thead>\n",
       "        <tr>\n",
       "            <th>Race</th> <th>Eligible</th> <th>Panel</th> <th>Eligible sample</th>\n",
       "        </tr>\n",
       "    </thead>\n",
       "    <tbody>\n",
       "        <tr>\n",
       "            <td>Asian </td> <td>15%     </td> <td>26%  </td> <td>199            </td>\n",
       "        </tr>\n",
       "    </tbody>\n",
       "        <tr>\n",
       "            <td>Black </td> <td>18%     </td> <td>8%   </td> <td>264            </td>\n",
       "        </tr>\n",
       "    </tbody>\n",
       "        <tr>\n",
       "            <td>Latino</td> <td>12%     </td> <td>8%   </td> <td>171            </td>\n",
       "        </tr>\n",
       "    </tbody>\n",
       "        <tr>\n",
       "            <td>White </td> <td>54%     </td> <td>54%  </td> <td>797            </td>\n",
       "        </tr>\n",
       "    </tbody>\n",
       "        <tr>\n",
       "            <td>Other </td> <td>1%      </td> <td>4%   </td> <td>22             </td>\n",
       "        </tr>\n",
       "    </tbody>\n",
       "</table>"
      ],
      "text/plain": [
       "Race   | Eligible | Panel | Eligible sample\n",
       "Asian  | 15%      | 26%   | 199\n",
       "Black  | 18%      | 8%    | 264\n",
       "Latino | 12%      | 8%    | 171\n",
       "White  | 54%      | 54%   | 797\n",
       "Other  | 1%       | 4%    | 22"
      ]
     },
     "execution_count": 39,
     "metadata": {},
     "output_type": "execute_result"
    }
   ],
   "source": [
    "panel_size = 1453\n",
    "jury.sample_from_distribution(\"Eligible\", panel_size)"
   ]
  },
  {
   "cell_type": "code",
   "execution_count": 40,
   "metadata": {
    "collapsed": true
   },
   "outputs": [],
   "source": [
    "def empirical_distribution(table, label, sample_size, k, f):\n",
    "    stats = Table(['Sample #', 'Statistic'])\n",
    "    for i in np.arange(k):\n",
    "        sample = table.sample_from_distribution(label, sample_size)\n",
    "        statistic = f(sample)\n",
    "        stats.append([i, statistic])\n",
    "    return stats"
   ]
  },
  {
   "cell_type": "code",
   "execution_count": 41,
   "metadata": {
    "collapsed": false
   },
   "outputs": [
    {
     "data": {
      "text/html": [
       "<table border=\"1\" class=\"dataframe\">\n",
       "    <thead>\n",
       "        <tr>\n",
       "            <th>Sample #</th> <th>Statistic</th>\n",
       "        </tr>\n",
       "    </thead>\n",
       "    <tbody>\n",
       "        <tr>\n",
       "            <td>0       </td> <td>0.0177908 </td>\n",
       "        </tr>\n",
       "    </tbody>\n",
       "        <tr>\n",
       "            <td>1       </td> <td>0.0226428 </td>\n",
       "        </tr>\n",
       "    </tbody>\n",
       "        <tr>\n",
       "            <td>2       </td> <td>0.0154921 </td>\n",
       "        </tr>\n",
       "    </tbody>\n",
       "        <tr>\n",
       "            <td>3       </td> <td>0.0185065 </td>\n",
       "        </tr>\n",
       "    </tbody>\n",
       "        <tr>\n",
       "            <td>4       </td> <td>0.0106194 </td>\n",
       "        </tr>\n",
       "    </tbody>\n",
       "        <tr>\n",
       "            <td>5       </td> <td>0.0279009 </td>\n",
       "        </tr>\n",
       "    </tbody>\n",
       "        <tr>\n",
       "            <td>6       </td> <td>0.00966965</td>\n",
       "        </tr>\n",
       "    </tbody>\n",
       "        <tr>\n",
       "            <td>7       </td> <td>0.0168135 </td>\n",
       "        </tr>\n",
       "    </tbody>\n",
       "        <tr>\n",
       "            <td>8       </td> <td>0.0146662 </td>\n",
       "        </tr>\n",
       "    </tbody>\n",
       "        <tr>\n",
       "            <td>9       </td> <td>0.0134136 </td>\n",
       "        </tr>\n",
       "    </tbody>\n",
       "</table>\n",
       "<p>... (990 rows omitted)</p"
      ],
      "text/plain": [
       "Sample # | Statistic\n",
       "0        | 0.0177908\n",
       "1        | 0.0226428\n",
       "2        | 0.0154921\n",
       "3        | 0.0185065\n",
       "4        | 0.0106194\n",
       "5        | 0.0279009\n",
       "6        | 0.00966965\n",
       "7        | 0.0168135\n",
       "8        | 0.0146662\n",
       "9        | 0.0134136\n",
       "... (990 rows omitted)"
      ]
     },
     "execution_count": 41,
     "metadata": {},
     "output_type": "execute_result"
    }
   ],
   "source": [
    "def tvd_from_eligible(sample):\n",
    "    counts = sample.column('Eligible sample')\n",
    "    distribution = counts / sum(counts)\n",
    "    return total_variation_distance(jury.column('Eligible'), distribution)\n",
    "\n",
    "empirical_distribution(jury, 'Eligible', panel_size, 1000, tvd_from_eligible)"
   ]
  },
  {
   "cell_type": "code",
   "execution_count": 42,
   "metadata": {
    "collapsed": false
   },
   "outputs": [
    {
     "data": {
      "image/png": "[encoded data removed]",
      "text/plain": [
       "<matplotlib.figure.Figure at 0x10a0214e0>"
      ]
     },
     "metadata": {},
     "output_type": "display_data"
    }
   ],
   "source": [
    "empirical_distribution(jury, 'Eligible', panel_size, 1000, tvd_from_eligible).hist(1)"
   ]
  },
  {
   "cell_type": "code",
   "execution_count": 43,
   "metadata": {
    "collapsed": false
   },
   "outputs": [
    {
     "data": {
      "image/png": "[encoded data removed]",
      "text/plain": [
       "<matplotlib.figure.Figure at 0x10a1a0278>"
      ]
     },
     "metadata": {},
     "output_type": "display_data"
    }
   ],
   "source": [
    "empirical_distribution(jury, 'Eligible', 20, 1000, tvd_from_eligible).hist(1)"
   ]
  },
  {
   "cell_type": "code",
   "execution_count": 44,
   "metadata": {
    "collapsed": false
   },
   "outputs": [
    {
     "data": {
      "text/html": [
       "<table border=\"1\" class=\"dataframe\">\n",
       "    <thead>\n",
       "        <tr>\n",
       "            <th>Race</th> <th>Eligible</th> <th>Panel</th> <th>Eligible sample</th>\n",
       "        </tr>\n",
       "    </thead>\n",
       "    <tbody>\n",
       "        <tr>\n",
       "            <td>Asian </td> <td>15%     </td> <td>26%  </td> <td>5              </td>\n",
       "        </tr>\n",
       "    </tbody>\n",
       "        <tr>\n",
       "            <td>Black </td> <td>18%     </td> <td>8%   </td> <td>2              </td>\n",
       "        </tr>\n",
       "    </tbody>\n",
       "        <tr>\n",
       "            <td>Latino</td> <td>12%     </td> <td>8%   </td> <td>2              </td>\n",
       "        </tr>\n",
       "    </tbody>\n",
       "        <tr>\n",
       "            <td>White </td> <td>54%     </td> <td>54%  </td> <td>11             </td>\n",
       "        </tr>\n",
       "    </tbody>\n",
       "        <tr>\n",
       "            <td>Other </td> <td>1%      </td> <td>4%   </td> <td>0              </td>\n",
       "        </tr>\n",
       "    </tbody>\n",
       "</table>"
      ],
      "text/plain": [
       "Race   | Eligible | Panel | Eligible sample\n",
       "Asian  | 15%      | 26%   | 5\n",
       "Black  | 18%      | 8%    | 2\n",
       "Latino | 12%      | 8%    | 2\n",
       "White  | 54%      | 54%   | 11\n",
       "Other  | 1%       | 4%    | 0"
      ]
     },
     "execution_count": 44,
     "metadata": {},
     "output_type": "execute_result"
    }
   ],
   "source": [
    "jury.sample_from_distribution('Eligible', 20)"
   ]
  },
  {
   "cell_type": "markdown",
   "metadata": {},
   "source": [
    "## Chi-Squared"
   ]
  },
  {
   "cell_type": "code",
   "execution_count": 45,
   "metadata": {
    "collapsed": false
   },
   "outputs": [],
   "source": [
    "eligible = jury.column(\"Eligible\") \n",
    "panel = jury.column(\"Panel\")"
   ]
  },
  {
   "cell_type": "code",
   "execution_count": 46,
   "metadata": {
    "collapsed": false
   },
   "outputs": [
    {
     "data": {
      "text/plain": [
       "348.07422222222226"
      ]
     },
     "execution_count": 46,
     "metadata": {},
     "output_type": "execute_result"
    }
   ],
   "source": [
    "sum((eligible - panel) ** 2 / eligible) * panel_size"
   ]
  },
  {
   "cell_type": "code",
   "execution_count": 47,
   "metadata": {
    "collapsed": false
   },
   "outputs": [
    {
     "data": {
      "text/plain": [
       "348.07422222222226"
      ]
     },
     "execution_count": 47,
     "metadata": {},
     "output_type": "execute_result"
    }
   ],
   "source": [
    "def chi_squared(dist, other, sample_size):\n",
    "    return sum((dist - other) ** 2 / dist) * sample_size\n",
    "chi_squared(eligible, panel, panel_size)"
   ]
  },
  {
   "cell_type": "code",
   "execution_count": 49,
   "metadata": {
    "collapsed": false
   },
   "outputs": [
    {
     "data": {
      "text/plain": [
       "310.99788461538458"
      ]
     },
     "execution_count": 49,
     "metadata": {},
     "output_type": "execute_result"
    }
   ],
   "source": [
    "chi_squared(panel, eligible, panel_size)"
   ]
  },
  {
   "cell_type": "code",
   "execution_count": 56,
   "metadata": {
    "collapsed": true
   },
   "outputs": [],
   "source": [
    "def chi2_eligible(sample):\n",
    "    counts = sample.column('Eligible sample')\n",
    "    distribution = counts / sum(counts)\n",
    "    return chi_squared(eligible, distribution, sum(counts))"
   ]
  },
  {
   "cell_type": "code",
   "execution_count": 57,
   "metadata": {
    "collapsed": false
   },
   "outputs": [
    {
     "data": {
      "image/png": "[encoded data removed]",
      "text/plain": [
       "<matplotlib.figure.Figure at 0x10a39e9e8>"
      ]
     },
     "metadata": {},
     "output_type": "display_data"
    }
   ],
   "source": [
    "ed = empirical_distribution(jury, 'Eligible', panel_size, 1000, chi2_eligible)\n",
    "ed.hist(1, bins=np.arange(0, 18, 0.5))"
   ]
  },
  {
   "cell_type": "code",
   "execution_count": 59,
   "metadata": {
    "collapsed": false
   },
   "outputs": [
    {
     "data": {
      "text/plain": [
       "4.1081840891132018"
      ]
     },
     "execution_count": 59,
     "metadata": {},
     "output_type": "execute_result"
    }
   ],
   "source": [
    "np.mean(ed.column(1))"
   ]
  },
  {
   "cell_type": "markdown",
   "metadata": {},
   "source": [
    "## Swain vs. Alabama"
   ]
  },
  {
   "cell_type": "code",
   "execution_count": 60,
   "metadata": {
    "collapsed": false
   },
   "outputs": [
    {
     "data": {
      "text/html": [
       "<table border=\"1\" class=\"dataframe\">\n",
       "    <thead>\n",
       "        <tr>\n",
       "            <th>Race</th> <th>Eligible</th>\n",
       "        </tr>\n",
       "    </thead>\n",
       "    <tbody>\n",
       "        <tr>\n",
       "            <td>Black</td> <td>26%     </td>\n",
       "        </tr>\n",
       "    </tbody>\n",
       "        <tr>\n",
       "            <td>Other</td> <td>74%     </td>\n",
       "        </tr>\n",
       "    </tbody>\n",
       "</table>"
      ],
      "text/plain": [
       "Race  | Eligible\n",
       "Black | 26%\n",
       "Other | 74%"
      ]
     },
     "execution_count": 60,
     "metadata": {},
     "output_type": "execute_result"
    }
   ],
   "source": [
    "alabama = Table(['Race', 'Eligible']).with_rows([\n",
    "    [\"Black\", 0.26],\n",
    "    [\"Other\", 0.74]\n",
    "])\n",
    "alabama.set_format(1, PercentFormatter(0))"
   ]
  },
  {
   "cell_type": "code",
   "execution_count": 61,
   "metadata": {
    "collapsed": false
   },
   "outputs": [
    {
     "data": {
      "text/html": [
       "<table border=\"1\" class=\"dataframe\">\n",
       "    <thead>\n",
       "        <tr>\n",
       "            <th>Sample #</th> <th>Statistic</th>\n",
       "        </tr>\n",
       "    </thead>\n",
       "    <tbody>\n",
       "        <tr>\n",
       "            <td>0       </td> <td>31       </td>\n",
       "        </tr>\n",
       "    </tbody>\n",
       "        <tr>\n",
       "            <td>1       </td> <td>28       </td>\n",
       "        </tr>\n",
       "    </tbody>\n",
       "        <tr>\n",
       "            <td>2       </td> <td>27       </td>\n",
       "        </tr>\n",
       "    </tbody>\n",
       "        <tr>\n",
       "            <td>3       </td> <td>22       </td>\n",
       "        </tr>\n",
       "    </tbody>\n",
       "        <tr>\n",
       "            <td>4       </td> <td>17       </td>\n",
       "        </tr>\n",
       "    </tbody>\n",
       "        <tr>\n",
       "            <td>5       </td> <td>28       </td>\n",
       "        </tr>\n",
       "    </tbody>\n",
       "        <tr>\n",
       "            <td>6       </td> <td>34       </td>\n",
       "        </tr>\n",
       "    </tbody>\n",
       "        <tr>\n",
       "            <td>7       </td> <td>23       </td>\n",
       "        </tr>\n",
       "    </tbody>\n",
       "        <tr>\n",
       "            <td>8       </td> <td>21       </td>\n",
       "        </tr>\n",
       "    </tbody>\n",
       "        <tr>\n",
       "            <td>9       </td> <td>22       </td>\n",
       "        </tr>\n",
       "    </tbody>\n",
       "</table>\n",
       "<p>... (9990 rows omitted)</p"
      ],
      "text/plain": [
       "Sample # | Statistic\n",
       "0        | 31\n",
       "1        | 28\n",
       "2        | 27\n",
       "3        | 22\n",
       "4        | 17\n",
       "5        | 28\n",
       "6        | 34\n",
       "7        | 23\n",
       "8        | 21\n",
       "9        | 22\n",
       "... (9990 rows omitted)"
      ]
     },
     "execution_count": 61,
     "metadata": {},
     "output_type": "execute_result"
    }
   ],
   "source": [
    "def value_for(category, category_label, value_label):\n",
    "    def in_table(sample):\n",
    "        return sample.where(category_label, category).column(value_label).item(0)\n",
    "    return in_table\n",
    "\n",
    "num_black = value_for('Black', 'Race', 'Eligible sample')\n",
    "\n",
    "black_in_sample = empirical_distribution(alabama, 'Eligible', 100, 10000, num_black)\n",
    "black_in_sample"
   ]
  },
  {
   "cell_type": "code",
   "execution_count": 62,
   "metadata": {
    "collapsed": false
   },
   "outputs": [
    {
     "data": {
      "image/png": "[encoded data removed]",
      "text/plain": [
       "<matplotlib.figure.Figure at 0x10a9ebe10>"
      ]
     },
     "metadata": {},
     "output_type": "display_data"
    }
   ],
   "source": [
    "black_in_sample.hist(1, bins=np.arange(0, 50, 1))"
   ]
  },
  {
   "cell_type": "code",
   "execution_count": 63,
   "metadata": {
    "collapsed": false
   },
   "outputs": [
    {
     "data": {
      "text/plain": [
       "0.0"
      ]
     },
     "execution_count": 63,
     "metadata": {},
     "output_type": "execute_result"
    }
   ],
   "source": [
    "np.count_nonzero(black_in_sample.column(1) <= 8) / black_in_sample.num_rows"
   ]
  }
 ],
 "metadata": {
  "kernelspec": {
   "display_name": "Python 3",
   "language": "python",
   "name": "python3"
  },
  "language_info": {
   "codemirror_mode": {
    "name": "ipython",
    "version": 3
   },
   "file_extension": ".py",
   "mimetype": "text/x-python",
   "name": "python",
   "nbconvert_exporter": "python",
   "pygments_lexer": "ipython3",
   "version": "3.4.4"
  }
 },
 "nbformat": 4,
 "nbformat_minor": 0
}
